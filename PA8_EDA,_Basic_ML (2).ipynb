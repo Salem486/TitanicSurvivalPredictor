{
  "nbformat": 4,
  "nbformat_minor": 0,
  "metadata": {
    "colab": {
      "provenance": []
    },
    "kernelspec": {
      "name": "python3",
      "display_name": "Python 3"
    },
    "language_info": {
      "name": "python"
    }
  },
  "cells": [
    {
      "cell_type": "markdown",
      "source": [
        "For this programming assignment, you will be working with the titanic dataset, and eventually training a decision tree classifier to predict whether or not a passenger survived the voyage. Before you train this classifier, you will perform exploratory data analysis on the data, and do a small amount of data cleaning.\n",
        "\n",
        "This data can be found on Kaggle, with explanations of the attributes: https://www.kaggle.com/c/titanic.\n",
        "\n",
        "Remember to reference the materials from class; you will find them hugely helpful on this programming assignment.\n",
        "\n",
        "Each task is worth 1 point, unless indicated otherwise."
      ],
      "metadata": {
        "id": "-nA0fWMY9Jpd"
      }
    },
    {
      "cell_type": "markdown",
      "source": [
        "## Loading the data\n",
        "\n",
        "First, we'll load the data into a `pandas` dataframe, and use the `describe` method to summarize the data."
      ],
      "metadata": {
        "id": "Co3pt1Of9t4H"
      }
    },
    {
      "cell_type": "code",
      "execution_count": 1,
      "metadata": {
        "id": "e8Xw7MGGTQHz",
        "colab": {
          "base_uri": "https://localhost:8080/",
          "height": 466
        },
        "outputId": "51d02336-0de0-46e2-93c6-e01970fa0373"
      },
      "outputs": [
        {
          "output_type": "execute_result",
          "data": {
            "text/plain": [
              "        PassengerId    Survived      Pclass                     Name   Sex  \\\n",
              "count    891.000000  891.000000  891.000000                      891   891   \n",
              "unique          NaN         NaN         NaN                      891     2   \n",
              "top             NaN         NaN         NaN  Braund, Mr. Owen Harris  male   \n",
              "freq            NaN         NaN         NaN                        1   577   \n",
              "mean     446.000000    0.383838    2.308642                      NaN   NaN   \n",
              "std      257.353842    0.486592    0.836071                      NaN   NaN   \n",
              "min        1.000000    0.000000    1.000000                      NaN   NaN   \n",
              "25%      223.500000    0.000000    2.000000                      NaN   NaN   \n",
              "50%      446.000000    0.000000    3.000000                      NaN   NaN   \n",
              "75%      668.500000    1.000000    3.000000                      NaN   NaN   \n",
              "max      891.000000    1.000000    3.000000                      NaN   NaN   \n",
              "\n",
              "               Age       SibSp       Parch  Ticket        Fare    Cabin  \\\n",
              "count   714.000000  891.000000  891.000000     891  891.000000      204   \n",
              "unique         NaN         NaN         NaN     681         NaN      147   \n",
              "top            NaN         NaN         NaN  347082         NaN  B96 B98   \n",
              "freq           NaN         NaN         NaN       7         NaN        4   \n",
              "mean     29.699118    0.523008    0.381594     NaN   32.204208      NaN   \n",
              "std      14.526497    1.102743    0.806057     NaN   49.693429      NaN   \n",
              "min       0.420000    0.000000    0.000000     NaN    0.000000      NaN   \n",
              "25%      20.125000    0.000000    0.000000     NaN    7.910400      NaN   \n",
              "50%      28.000000    0.000000    0.000000     NaN   14.454200      NaN   \n",
              "75%      38.000000    1.000000    0.000000     NaN   31.000000      NaN   \n",
              "max      80.000000    8.000000    6.000000     NaN  512.329200      NaN   \n",
              "\n",
              "       Embarked  \n",
              "count       889  \n",
              "unique        3  \n",
              "top           S  \n",
              "freq        644  \n",
              "mean        NaN  \n",
              "std         NaN  \n",
              "min         NaN  \n",
              "25%         NaN  \n",
              "50%         NaN  \n",
              "75%         NaN  \n",
              "max         NaN  "
            ],
            "text/html": [
              "\n",
              "  <div id=\"df-2b2305a4-404d-4361-89c2-8e7235408efc\" class=\"colab-df-container\">\n",
              "    <div>\n",
              "<style scoped>\n",
              "    .dataframe tbody tr th:only-of-type {\n",
              "        vertical-align: middle;\n",
              "    }\n",
              "\n",
              "    .dataframe tbody tr th {\n",
              "        vertical-align: top;\n",
              "    }\n",
              "\n",
              "    .dataframe thead th {\n",
              "        text-align: right;\n",
              "    }\n",
              "</style>\n",
              "<table border=\"1\" class=\"dataframe\">\n",
              "  <thead>\n",
              "    <tr style=\"text-align: right;\">\n",
              "      <th></th>\n",
              "      <th>PassengerId</th>\n",
              "      <th>Survived</th>\n",
              "      <th>Pclass</th>\n",
              "      <th>Name</th>\n",
              "      <th>Sex</th>\n",
              "      <th>Age</th>\n",
              "      <th>SibSp</th>\n",
              "      <th>Parch</th>\n",
              "      <th>Ticket</th>\n",
              "      <th>Fare</th>\n",
              "      <th>Cabin</th>\n",
              "      <th>Embarked</th>\n",
              "    </tr>\n",
              "  </thead>\n",
              "  <tbody>\n",
              "    <tr>\n",
              "      <th>count</th>\n",
              "      <td>891.000000</td>\n",
              "      <td>891.000000</td>\n",
              "      <td>891.000000</td>\n",
              "      <td>891</td>\n",
              "      <td>891</td>\n",
              "      <td>714.000000</td>\n",
              "      <td>891.000000</td>\n",
              "      <td>891.000000</td>\n",
              "      <td>891</td>\n",
              "      <td>891.000000</td>\n",
              "      <td>204</td>\n",
              "      <td>889</td>\n",
              "    </tr>\n",
              "    <tr>\n",
              "      <th>unique</th>\n",
              "      <td>NaN</td>\n",
              "      <td>NaN</td>\n",
              "      <td>NaN</td>\n",
              "      <td>891</td>\n",
              "      <td>2</td>\n",
              "      <td>NaN</td>\n",
              "      <td>NaN</td>\n",
              "      <td>NaN</td>\n",
              "      <td>681</td>\n",
              "      <td>NaN</td>\n",
              "      <td>147</td>\n",
              "      <td>3</td>\n",
              "    </tr>\n",
              "    <tr>\n",
              "      <th>top</th>\n",
              "      <td>NaN</td>\n",
              "      <td>NaN</td>\n",
              "      <td>NaN</td>\n",
              "      <td>Braund, Mr. Owen Harris</td>\n",
              "      <td>male</td>\n",
              "      <td>NaN</td>\n",
              "      <td>NaN</td>\n",
              "      <td>NaN</td>\n",
              "      <td>347082</td>\n",
              "      <td>NaN</td>\n",
              "      <td>B96 B98</td>\n",
              "      <td>S</td>\n",
              "    </tr>\n",
              "    <tr>\n",
              "      <th>freq</th>\n",
              "      <td>NaN</td>\n",
              "      <td>NaN</td>\n",
              "      <td>NaN</td>\n",
              "      <td>1</td>\n",
              "      <td>577</td>\n",
              "      <td>NaN</td>\n",
              "      <td>NaN</td>\n",
              "      <td>NaN</td>\n",
              "      <td>7</td>\n",
              "      <td>NaN</td>\n",
              "      <td>4</td>\n",
              "      <td>644</td>\n",
              "    </tr>\n",
              "    <tr>\n",
              "      <th>mean</th>\n",
              "      <td>446.000000</td>\n",
              "      <td>0.383838</td>\n",
              "      <td>2.308642</td>\n",
              "      <td>NaN</td>\n",
              "      <td>NaN</td>\n",
              "      <td>29.699118</td>\n",
              "      <td>0.523008</td>\n",
              "      <td>0.381594</td>\n",
              "      <td>NaN</td>\n",
              "      <td>32.204208</td>\n",
              "      <td>NaN</td>\n",
              "      <td>NaN</td>\n",
              "    </tr>\n",
              "    <tr>\n",
              "      <th>std</th>\n",
              "      <td>257.353842</td>\n",
              "      <td>0.486592</td>\n",
              "      <td>0.836071</td>\n",
              "      <td>NaN</td>\n",
              "      <td>NaN</td>\n",
              "      <td>14.526497</td>\n",
              "      <td>1.102743</td>\n",
              "      <td>0.806057</td>\n",
              "      <td>NaN</td>\n",
              "      <td>49.693429</td>\n",
              "      <td>NaN</td>\n",
              "      <td>NaN</td>\n",
              "    </tr>\n",
              "    <tr>\n",
              "      <th>min</th>\n",
              "      <td>1.000000</td>\n",
              "      <td>0.000000</td>\n",
              "      <td>1.000000</td>\n",
              "      <td>NaN</td>\n",
              "      <td>NaN</td>\n",
              "      <td>0.420000</td>\n",
              "      <td>0.000000</td>\n",
              "      <td>0.000000</td>\n",
              "      <td>NaN</td>\n",
              "      <td>0.000000</td>\n",
              "      <td>NaN</td>\n",
              "      <td>NaN</td>\n",
              "    </tr>\n",
              "    <tr>\n",
              "      <th>25%</th>\n",
              "      <td>223.500000</td>\n",
              "      <td>0.000000</td>\n",
              "      <td>2.000000</td>\n",
              "      <td>NaN</td>\n",
              "      <td>NaN</td>\n",
              "      <td>20.125000</td>\n",
              "      <td>0.000000</td>\n",
              "      <td>0.000000</td>\n",
              "      <td>NaN</td>\n",
              "      <td>7.910400</td>\n",
              "      <td>NaN</td>\n",
              "      <td>NaN</td>\n",
              "    </tr>\n",
              "    <tr>\n",
              "      <th>50%</th>\n",
              "      <td>446.000000</td>\n",
              "      <td>0.000000</td>\n",
              "      <td>3.000000</td>\n",
              "      <td>NaN</td>\n",
              "      <td>NaN</td>\n",
              "      <td>28.000000</td>\n",
              "      <td>0.000000</td>\n",
              "      <td>0.000000</td>\n",
              "      <td>NaN</td>\n",
              "      <td>14.454200</td>\n",
              "      <td>NaN</td>\n",
              "      <td>NaN</td>\n",
              "    </tr>\n",
              "    <tr>\n",
              "      <th>75%</th>\n",
              "      <td>668.500000</td>\n",
              "      <td>1.000000</td>\n",
              "      <td>3.000000</td>\n",
              "      <td>NaN</td>\n",
              "      <td>NaN</td>\n",
              "      <td>38.000000</td>\n",
              "      <td>1.000000</td>\n",
              "      <td>0.000000</td>\n",
              "      <td>NaN</td>\n",
              "      <td>31.000000</td>\n",
              "      <td>NaN</td>\n",
              "      <td>NaN</td>\n",
              "    </tr>\n",
              "    <tr>\n",
              "      <th>max</th>\n",
              "      <td>891.000000</td>\n",
              "      <td>1.000000</td>\n",
              "      <td>3.000000</td>\n",
              "      <td>NaN</td>\n",
              "      <td>NaN</td>\n",
              "      <td>80.000000</td>\n",
              "      <td>8.000000</td>\n",
              "      <td>6.000000</td>\n",
              "      <td>NaN</td>\n",
              "      <td>512.329200</td>\n",
              "      <td>NaN</td>\n",
              "      <td>NaN</td>\n",
              "    </tr>\n",
              "  </tbody>\n",
              "</table>\n",
              "</div>\n",
              "    <div class=\"colab-df-buttons\">\n",
              "\n",
              "  <div class=\"colab-df-container\">\n",
              "    <button class=\"colab-df-convert\" onclick=\"convertToInteractive('df-2b2305a4-404d-4361-89c2-8e7235408efc')\"\n",
              "            title=\"Convert this dataframe to an interactive table.\"\n",
              "            style=\"display:none;\">\n",
              "\n",
              "  <svg xmlns=\"http://www.w3.org/2000/svg\" height=\"24px\" viewBox=\"0 -960 960 960\">\n",
              "    <path d=\"M120-120v-720h720v720H120Zm60-500h600v-160H180v160Zm220 220h160v-160H400v160Zm0 220h160v-160H400v160ZM180-400h160v-160H180v160Zm440 0h160v-160H620v160ZM180-180h160v-160H180v160Zm440 0h160v-160H620v160Z\"/>\n",
              "  </svg>\n",
              "    </button>\n",
              "\n",
              "  <style>\n",
              "    .colab-df-container {\n",
              "      display:flex;\n",
              "      gap: 12px;\n",
              "    }\n",
              "\n",
              "    .colab-df-convert {\n",
              "      background-color: #E8F0FE;\n",
              "      border: none;\n",
              "      border-radius: 50%;\n",
              "      cursor: pointer;\n",
              "      display: none;\n",
              "      fill: #1967D2;\n",
              "      height: 32px;\n",
              "      padding: 0 0 0 0;\n",
              "      width: 32px;\n",
              "    }\n",
              "\n",
              "    .colab-df-convert:hover {\n",
              "      background-color: #E2EBFA;\n",
              "      box-shadow: 0px 1px 2px rgba(60, 64, 67, 0.3), 0px 1px 3px 1px rgba(60, 64, 67, 0.15);\n",
              "      fill: #174EA6;\n",
              "    }\n",
              "\n",
              "    .colab-df-buttons div {\n",
              "      margin-bottom: 4px;\n",
              "    }\n",
              "\n",
              "    [theme=dark] .colab-df-convert {\n",
              "      background-color: #3B4455;\n",
              "      fill: #D2E3FC;\n",
              "    }\n",
              "\n",
              "    [theme=dark] .colab-df-convert:hover {\n",
              "      background-color: #434B5C;\n",
              "      box-shadow: 0px 1px 3px 1px rgba(0, 0, 0, 0.15);\n",
              "      filter: drop-shadow(0px 1px 2px rgba(0, 0, 0, 0.3));\n",
              "      fill: #FFFFFF;\n",
              "    }\n",
              "  </style>\n",
              "\n",
              "    <script>\n",
              "      const buttonEl =\n",
              "        document.querySelector('#df-2b2305a4-404d-4361-89c2-8e7235408efc button.colab-df-convert');\n",
              "      buttonEl.style.display =\n",
              "        google.colab.kernel.accessAllowed ? 'block' : 'none';\n",
              "\n",
              "      async function convertToInteractive(key) {\n",
              "        const element = document.querySelector('#df-2b2305a4-404d-4361-89c2-8e7235408efc');\n",
              "        const dataTable =\n",
              "          await google.colab.kernel.invokeFunction('convertToInteractive',\n",
              "                                                    [key], {});\n",
              "        if (!dataTable) return;\n",
              "\n",
              "        const docLinkHtml = 'Like what you see? Visit the ' +\n",
              "          '<a target=\"_blank\" href=https://colab.research.google.com/notebooks/data_table.ipynb>data table notebook</a>'\n",
              "          + ' to learn more about interactive tables.';\n",
              "        element.innerHTML = '';\n",
              "        dataTable['output_type'] = 'display_data';\n",
              "        await google.colab.output.renderOutput(dataTable, element);\n",
              "        const docLink = document.createElement('div');\n",
              "        docLink.innerHTML = docLinkHtml;\n",
              "        element.appendChild(docLink);\n",
              "      }\n",
              "    </script>\n",
              "  </div>\n",
              "\n",
              "\n",
              "<div id=\"df-1ac91dfa-9a21-4a35-89d5-d338eea8ce59\">\n",
              "  <button class=\"colab-df-quickchart\" onclick=\"quickchart('df-1ac91dfa-9a21-4a35-89d5-d338eea8ce59')\"\n",
              "            title=\"Suggest charts\"\n",
              "            style=\"display:none;\">\n",
              "\n",
              "<svg xmlns=\"http://www.w3.org/2000/svg\" height=\"24px\"viewBox=\"0 0 24 24\"\n",
              "     width=\"24px\">\n",
              "    <g>\n",
              "        <path d=\"M19 3H5c-1.1 0-2 .9-2 2v14c0 1.1.9 2 2 2h14c1.1 0 2-.9 2-2V5c0-1.1-.9-2-2-2zM9 17H7v-7h2v7zm4 0h-2V7h2v10zm4 0h-2v-4h2v4z\"/>\n",
              "    </g>\n",
              "</svg>\n",
              "  </button>\n",
              "\n",
              "<style>\n",
              "  .colab-df-quickchart {\n",
              "      --bg-color: #E8F0FE;\n",
              "      --fill-color: #1967D2;\n",
              "      --hover-bg-color: #E2EBFA;\n",
              "      --hover-fill-color: #174EA6;\n",
              "      --disabled-fill-color: #AAA;\n",
              "      --disabled-bg-color: #DDD;\n",
              "  }\n",
              "\n",
              "  [theme=dark] .colab-df-quickchart {\n",
              "      --bg-color: #3B4455;\n",
              "      --fill-color: #D2E3FC;\n",
              "      --hover-bg-color: #434B5C;\n",
              "      --hover-fill-color: #FFFFFF;\n",
              "      --disabled-bg-color: #3B4455;\n",
              "      --disabled-fill-color: #666;\n",
              "  }\n",
              "\n",
              "  .colab-df-quickchart {\n",
              "    background-color: var(--bg-color);\n",
              "    border: none;\n",
              "    border-radius: 50%;\n",
              "    cursor: pointer;\n",
              "    display: none;\n",
              "    fill: var(--fill-color);\n",
              "    height: 32px;\n",
              "    padding: 0;\n",
              "    width: 32px;\n",
              "  }\n",
              "\n",
              "  .colab-df-quickchart:hover {\n",
              "    background-color: var(--hover-bg-color);\n",
              "    box-shadow: 0 1px 2px rgba(60, 64, 67, 0.3), 0 1px 3px 1px rgba(60, 64, 67, 0.15);\n",
              "    fill: var(--button-hover-fill-color);\n",
              "  }\n",
              "\n",
              "  .colab-df-quickchart-complete:disabled,\n",
              "  .colab-df-quickchart-complete:disabled:hover {\n",
              "    background-color: var(--disabled-bg-color);\n",
              "    fill: var(--disabled-fill-color);\n",
              "    box-shadow: none;\n",
              "  }\n",
              "\n",
              "  .colab-df-spinner {\n",
              "    border: 2px solid var(--fill-color);\n",
              "    border-color: transparent;\n",
              "    border-bottom-color: var(--fill-color);\n",
              "    animation:\n",
              "      spin 1s steps(1) infinite;\n",
              "  }\n",
              "\n",
              "  @keyframes spin {\n",
              "    0% {\n",
              "      border-color: transparent;\n",
              "      border-bottom-color: var(--fill-color);\n",
              "      border-left-color: var(--fill-color);\n",
              "    }\n",
              "    20% {\n",
              "      border-color: transparent;\n",
              "      border-left-color: var(--fill-color);\n",
              "      border-top-color: var(--fill-color);\n",
              "    }\n",
              "    30% {\n",
              "      border-color: transparent;\n",
              "      border-left-color: var(--fill-color);\n",
              "      border-top-color: var(--fill-color);\n",
              "      border-right-color: var(--fill-color);\n",
              "    }\n",
              "    40% {\n",
              "      border-color: transparent;\n",
              "      border-right-color: var(--fill-color);\n",
              "      border-top-color: var(--fill-color);\n",
              "    }\n",
              "    60% {\n",
              "      border-color: transparent;\n",
              "      border-right-color: var(--fill-color);\n",
              "    }\n",
              "    80% {\n",
              "      border-color: transparent;\n",
              "      border-right-color: var(--fill-color);\n",
              "      border-bottom-color: var(--fill-color);\n",
              "    }\n",
              "    90% {\n",
              "      border-color: transparent;\n",
              "      border-bottom-color: var(--fill-color);\n",
              "    }\n",
              "  }\n",
              "</style>\n",
              "\n",
              "  <script>\n",
              "    async function quickchart(key) {\n",
              "      const quickchartButtonEl =\n",
              "        document.querySelector('#' + key + ' button');\n",
              "      quickchartButtonEl.disabled = true;  // To prevent multiple clicks.\n",
              "      quickchartButtonEl.classList.add('colab-df-spinner');\n",
              "      try {\n",
              "        const charts = await google.colab.kernel.invokeFunction(\n",
              "            'suggestCharts', [key], {});\n",
              "      } catch (error) {\n",
              "        console.error('Error during call to suggestCharts:', error);\n",
              "      }\n",
              "      quickchartButtonEl.classList.remove('colab-df-spinner');\n",
              "      quickchartButtonEl.classList.add('colab-df-quickchart-complete');\n",
              "    }\n",
              "    (() => {\n",
              "      let quickchartButtonEl =\n",
              "        document.querySelector('#df-1ac91dfa-9a21-4a35-89d5-d338eea8ce59 button');\n",
              "      quickchartButtonEl.style.display =\n",
              "        google.colab.kernel.accessAllowed ? 'block' : 'none';\n",
              "    })();\n",
              "  </script>\n",
              "</div>\n",
              "    </div>\n",
              "  </div>\n"
            ]
          },
          "metadata": {},
          "execution_count": 1
        }
      ],
      "source": [
        "import pandas as pd\n",
        "\n",
        "titanic_df = pd.read_csv(\"https://github.com/lynn0032/MLCamp2021/raw/main/titanic_train.csv\")\n",
        "\n",
        "titanic_df.describe(include = \"all\")"
      ]
    },
    {
      "cell_type": "markdown",
      "source": [
        "We can also look at the first few rows of data."
      ],
      "metadata": {
        "id": "u9vG39FJLmw_"
      }
    },
    {
      "cell_type": "code",
      "source": [
        "titanic_df.head()"
      ],
      "metadata": {
        "id": "zYIC8SSjLhyA",
        "colab": {
          "base_uri": "https://localhost:8080/",
          "height": 504
        },
        "outputId": "f7de4002-dd75-4a38-97db-d16ed38c7d22"
      },
      "execution_count": 2,
      "outputs": [
        {
          "output_type": "execute_result",
          "data": {
            "text/plain": [
              "   PassengerId  Survived  Pclass  \\\n",
              "0            1         0       3   \n",
              "1            2         1       1   \n",
              "2            3         1       3   \n",
              "3            4         1       1   \n",
              "4            5         0       3   \n",
              "\n",
              "                                                Name     Sex   Age  SibSp  \\\n",
              "0                            Braund, Mr. Owen Harris    male  22.0      1   \n",
              "1  Cumings, Mrs. John Bradley (Florence Briggs Th...  female  38.0      1   \n",
              "2                             Heikkinen, Miss. Laina  female  26.0      0   \n",
              "3       Futrelle, Mrs. Jacques Heath (Lily May Peel)  female  35.0      1   \n",
              "4                           Allen, Mr. William Henry    male  35.0      0   \n",
              "\n",
              "   Parch            Ticket     Fare Cabin Embarked  \n",
              "0      0         A/5 21171   7.2500   NaN        S  \n",
              "1      0          PC 17599  71.2833   C85        C  \n",
              "2      0  STON/O2. 3101282   7.9250   NaN        S  \n",
              "3      0            113803  53.1000  C123        S  \n",
              "4      0            373450   8.0500   NaN        S  "
            ],
            "text/html": [
              "\n",
              "  <div id=\"df-24db23cb-17b7-444a-929c-a337be220a66\" class=\"colab-df-container\">\n",
              "    <div>\n",
              "<style scoped>\n",
              "    .dataframe tbody tr th:only-of-type {\n",
              "        vertical-align: middle;\n",
              "    }\n",
              "\n",
              "    .dataframe tbody tr th {\n",
              "        vertical-align: top;\n",
              "    }\n",
              "\n",
              "    .dataframe thead th {\n",
              "        text-align: right;\n",
              "    }\n",
              "</style>\n",
              "<table border=\"1\" class=\"dataframe\">\n",
              "  <thead>\n",
              "    <tr style=\"text-align: right;\">\n",
              "      <th></th>\n",
              "      <th>PassengerId</th>\n",
              "      <th>Survived</th>\n",
              "      <th>Pclass</th>\n",
              "      <th>Name</th>\n",
              "      <th>Sex</th>\n",
              "      <th>Age</th>\n",
              "      <th>SibSp</th>\n",
              "      <th>Parch</th>\n",
              "      <th>Ticket</th>\n",
              "      <th>Fare</th>\n",
              "      <th>Cabin</th>\n",
              "      <th>Embarked</th>\n",
              "    </tr>\n",
              "  </thead>\n",
              "  <tbody>\n",
              "    <tr>\n",
              "      <th>0</th>\n",
              "      <td>1</td>\n",
              "      <td>0</td>\n",
              "      <td>3</td>\n",
              "      <td>Braund, Mr. Owen Harris</td>\n",
              "      <td>male</td>\n",
              "      <td>22.0</td>\n",
              "      <td>1</td>\n",
              "      <td>0</td>\n",
              "      <td>A/5 21171</td>\n",
              "      <td>7.2500</td>\n",
              "      <td>NaN</td>\n",
              "      <td>S</td>\n",
              "    </tr>\n",
              "    <tr>\n",
              "      <th>1</th>\n",
              "      <td>2</td>\n",
              "      <td>1</td>\n",
              "      <td>1</td>\n",
              "      <td>Cumings, Mrs. John Bradley (Florence Briggs Th...</td>\n",
              "      <td>female</td>\n",
              "      <td>38.0</td>\n",
              "      <td>1</td>\n",
              "      <td>0</td>\n",
              "      <td>PC 17599</td>\n",
              "      <td>71.2833</td>\n",
              "      <td>C85</td>\n",
              "      <td>C</td>\n",
              "    </tr>\n",
              "    <tr>\n",
              "      <th>2</th>\n",
              "      <td>3</td>\n",
              "      <td>1</td>\n",
              "      <td>3</td>\n",
              "      <td>Heikkinen, Miss. Laina</td>\n",
              "      <td>female</td>\n",
              "      <td>26.0</td>\n",
              "      <td>0</td>\n",
              "      <td>0</td>\n",
              "      <td>STON/O2. 3101282</td>\n",
              "      <td>7.9250</td>\n",
              "      <td>NaN</td>\n",
              "      <td>S</td>\n",
              "    </tr>\n",
              "    <tr>\n",
              "      <th>3</th>\n",
              "      <td>4</td>\n",
              "      <td>1</td>\n",
              "      <td>1</td>\n",
              "      <td>Futrelle, Mrs. Jacques Heath (Lily May Peel)</td>\n",
              "      <td>female</td>\n",
              "      <td>35.0</td>\n",
              "      <td>1</td>\n",
              "      <td>0</td>\n",
              "      <td>113803</td>\n",
              "      <td>53.1000</td>\n",
              "      <td>C123</td>\n",
              "      <td>S</td>\n",
              "    </tr>\n",
              "    <tr>\n",
              "      <th>4</th>\n",
              "      <td>5</td>\n",
              "      <td>0</td>\n",
              "      <td>3</td>\n",
              "      <td>Allen, Mr. William Henry</td>\n",
              "      <td>male</td>\n",
              "      <td>35.0</td>\n",
              "      <td>0</td>\n",
              "      <td>0</td>\n",
              "      <td>373450</td>\n",
              "      <td>8.0500</td>\n",
              "      <td>NaN</td>\n",
              "      <td>S</td>\n",
              "    </tr>\n",
              "  </tbody>\n",
              "</table>\n",
              "</div>\n",
              "    <div class=\"colab-df-buttons\">\n",
              "\n",
              "  <div class=\"colab-df-container\">\n",
              "    <button class=\"colab-df-convert\" onclick=\"convertToInteractive('df-24db23cb-17b7-444a-929c-a337be220a66')\"\n",
              "            title=\"Convert this dataframe to an interactive table.\"\n",
              "            style=\"display:none;\">\n",
              "\n",
              "  <svg xmlns=\"http://www.w3.org/2000/svg\" height=\"24px\" viewBox=\"0 -960 960 960\">\n",
              "    <path d=\"M120-120v-720h720v720H120Zm60-500h600v-160H180v160Zm220 220h160v-160H400v160Zm0 220h160v-160H400v160ZM180-400h160v-160H180v160Zm440 0h160v-160H620v160ZM180-180h160v-160H180v160Zm440 0h160v-160H620v160Z\"/>\n",
              "  </svg>\n",
              "    </button>\n",
              "\n",
              "  <style>\n",
              "    .colab-df-container {\n",
              "      display:flex;\n",
              "      gap: 12px;\n",
              "    }\n",
              "\n",
              "    .colab-df-convert {\n",
              "      background-color: #E8F0FE;\n",
              "      border: none;\n",
              "      border-radius: 50%;\n",
              "      cursor: pointer;\n",
              "      display: none;\n",
              "      fill: #1967D2;\n",
              "      height: 32px;\n",
              "      padding: 0 0 0 0;\n",
              "      width: 32px;\n",
              "    }\n",
              "\n",
              "    .colab-df-convert:hover {\n",
              "      background-color: #E2EBFA;\n",
              "      box-shadow: 0px 1px 2px rgba(60, 64, 67, 0.3), 0px 1px 3px 1px rgba(60, 64, 67, 0.15);\n",
              "      fill: #174EA6;\n",
              "    }\n",
              "\n",
              "    .colab-df-buttons div {\n",
              "      margin-bottom: 4px;\n",
              "    }\n",
              "\n",
              "    [theme=dark] .colab-df-convert {\n",
              "      background-color: #3B4455;\n",
              "      fill: #D2E3FC;\n",
              "    }\n",
              "\n",
              "    [theme=dark] .colab-df-convert:hover {\n",
              "      background-color: #434B5C;\n",
              "      box-shadow: 0px 1px 3px 1px rgba(0, 0, 0, 0.15);\n",
              "      filter: drop-shadow(0px 1px 2px rgba(0, 0, 0, 0.3));\n",
              "      fill: #FFFFFF;\n",
              "    }\n",
              "  </style>\n",
              "\n",
              "    <script>\n",
              "      const buttonEl =\n",
              "        document.querySelector('#df-24db23cb-17b7-444a-929c-a337be220a66 button.colab-df-convert');\n",
              "      buttonEl.style.display =\n",
              "        google.colab.kernel.accessAllowed ? 'block' : 'none';\n",
              "\n",
              "      async function convertToInteractive(key) {\n",
              "        const element = document.querySelector('#df-24db23cb-17b7-444a-929c-a337be220a66');\n",
              "        const dataTable =\n",
              "          await google.colab.kernel.invokeFunction('convertToInteractive',\n",
              "                                                    [key], {});\n",
              "        if (!dataTable) return;\n",
              "\n",
              "        const docLinkHtml = 'Like what you see? Visit the ' +\n",
              "          '<a target=\"_blank\" href=https://colab.research.google.com/notebooks/data_table.ipynb>data table notebook</a>'\n",
              "          + ' to learn more about interactive tables.';\n",
              "        element.innerHTML = '';\n",
              "        dataTable['output_type'] = 'display_data';\n",
              "        await google.colab.output.renderOutput(dataTable, element);\n",
              "        const docLink = document.createElement('div');\n",
              "        docLink.innerHTML = docLinkHtml;\n",
              "        element.appendChild(docLink);\n",
              "      }\n",
              "    </script>\n",
              "  </div>\n",
              "\n",
              "\n",
              "<div id=\"df-3d27d3b9-291d-4d3e-b5b8-b195e977539e\">\n",
              "  <button class=\"colab-df-quickchart\" onclick=\"quickchart('df-3d27d3b9-291d-4d3e-b5b8-b195e977539e')\"\n",
              "            title=\"Suggest charts\"\n",
              "            style=\"display:none;\">\n",
              "\n",
              "<svg xmlns=\"http://www.w3.org/2000/svg\" height=\"24px\"viewBox=\"0 0 24 24\"\n",
              "     width=\"24px\">\n",
              "    <g>\n",
              "        <path d=\"M19 3H5c-1.1 0-2 .9-2 2v14c0 1.1.9 2 2 2h14c1.1 0 2-.9 2-2V5c0-1.1-.9-2-2-2zM9 17H7v-7h2v7zm4 0h-2V7h2v10zm4 0h-2v-4h2v4z\"/>\n",
              "    </g>\n",
              "</svg>\n",
              "  </button>\n",
              "\n",
              "<style>\n",
              "  .colab-df-quickchart {\n",
              "      --bg-color: #E8F0FE;\n",
              "      --fill-color: #1967D2;\n",
              "      --hover-bg-color: #E2EBFA;\n",
              "      --hover-fill-color: #174EA6;\n",
              "      --disabled-fill-color: #AAA;\n",
              "      --disabled-bg-color: #DDD;\n",
              "  }\n",
              "\n",
              "  [theme=dark] .colab-df-quickchart {\n",
              "      --bg-color: #3B4455;\n",
              "      --fill-color: #D2E3FC;\n",
              "      --hover-bg-color: #434B5C;\n",
              "      --hover-fill-color: #FFFFFF;\n",
              "      --disabled-bg-color: #3B4455;\n",
              "      --disabled-fill-color: #666;\n",
              "  }\n",
              "\n",
              "  .colab-df-quickchart {\n",
              "    background-color: var(--bg-color);\n",
              "    border: none;\n",
              "    border-radius: 50%;\n",
              "    cursor: pointer;\n",
              "    display: none;\n",
              "    fill: var(--fill-color);\n",
              "    height: 32px;\n",
              "    padding: 0;\n",
              "    width: 32px;\n",
              "  }\n",
              "\n",
              "  .colab-df-quickchart:hover {\n",
              "    background-color: var(--hover-bg-color);\n",
              "    box-shadow: 0 1px 2px rgba(60, 64, 67, 0.3), 0 1px 3px 1px rgba(60, 64, 67, 0.15);\n",
              "    fill: var(--button-hover-fill-color);\n",
              "  }\n",
              "\n",
              "  .colab-df-quickchart-complete:disabled,\n",
              "  .colab-df-quickchart-complete:disabled:hover {\n",
              "    background-color: var(--disabled-bg-color);\n",
              "    fill: var(--disabled-fill-color);\n",
              "    box-shadow: none;\n",
              "  }\n",
              "\n",
              "  .colab-df-spinner {\n",
              "    border: 2px solid var(--fill-color);\n",
              "    border-color: transparent;\n",
              "    border-bottom-color: var(--fill-color);\n",
              "    animation:\n",
              "      spin 1s steps(1) infinite;\n",
              "  }\n",
              "\n",
              "  @keyframes spin {\n",
              "    0% {\n",
              "      border-color: transparent;\n",
              "      border-bottom-color: var(--fill-color);\n",
              "      border-left-color: var(--fill-color);\n",
              "    }\n",
              "    20% {\n",
              "      border-color: transparent;\n",
              "      border-left-color: var(--fill-color);\n",
              "      border-top-color: var(--fill-color);\n",
              "    }\n",
              "    30% {\n",
              "      border-color: transparent;\n",
              "      border-left-color: var(--fill-color);\n",
              "      border-top-color: var(--fill-color);\n",
              "      border-right-color: var(--fill-color);\n",
              "    }\n",
              "    40% {\n",
              "      border-color: transparent;\n",
              "      border-right-color: var(--fill-color);\n",
              "      border-top-color: var(--fill-color);\n",
              "    }\n",
              "    60% {\n",
              "      border-color: transparent;\n",
              "      border-right-color: var(--fill-color);\n",
              "    }\n",
              "    80% {\n",
              "      border-color: transparent;\n",
              "      border-right-color: var(--fill-color);\n",
              "      border-bottom-color: var(--fill-color);\n",
              "    }\n",
              "    90% {\n",
              "      border-color: transparent;\n",
              "      border-bottom-color: var(--fill-color);\n",
              "    }\n",
              "  }\n",
              "</style>\n",
              "\n",
              "  <script>\n",
              "    async function quickchart(key) {\n",
              "      const quickchartButtonEl =\n",
              "        document.querySelector('#' + key + ' button');\n",
              "      quickchartButtonEl.disabled = true;  // To prevent multiple clicks.\n",
              "      quickchartButtonEl.classList.add('colab-df-spinner');\n",
              "      try {\n",
              "        const charts = await google.colab.kernel.invokeFunction(\n",
              "            'suggestCharts', [key], {});\n",
              "      } catch (error) {\n",
              "        console.error('Error during call to suggestCharts:', error);\n",
              "      }\n",
              "      quickchartButtonEl.classList.remove('colab-df-spinner');\n",
              "      quickchartButtonEl.classList.add('colab-df-quickchart-complete');\n",
              "    }\n",
              "    (() => {\n",
              "      let quickchartButtonEl =\n",
              "        document.querySelector('#df-3d27d3b9-291d-4d3e-b5b8-b195e977539e button');\n",
              "      quickchartButtonEl.style.display =\n",
              "        google.colab.kernel.accessAllowed ? 'block' : 'none';\n",
              "    })();\n",
              "  </script>\n",
              "</div>\n",
              "    </div>\n",
              "  </div>\n"
            ]
          },
          "metadata": {},
          "execution_count": 2
        }
      ]
    },
    {
      "cell_type": "markdown",
      "source": [
        "The dataset has the following attributes. I gathered this information by looking at the summary above, and by referencing Kaggle (https://www.kaggle.com/c/titanic).\n",
        "\n",
        "\n",
        "*   **PassengerId**. This is a number that is a unique identifier for each passenger. If we were to load this data into a SQL database, this would be the key.\n",
        "*   **Survived**. This is a binary attribute, and only takes the values 0 and 1. A value of 0 indicates that the passenger did not survive the titanic disaster, while a value of 1 indicates that the passenger did survive. Although these are numbers, this is best thought of as categorical. We will look at the value counts for this later, to see how it is distributed.\n",
        "*   **Pclass**. This takes the values 1, 2, and 3, and indicates the ticket class of the passenger. So, 1 indicates they have a first class ticket, 2 is a second class ticket, and 3 is a third class ticket. Note that this ordinal, since the classes have a meaningful order.\n",
        "*   **Name**. This is the name of the passenger. Note that we would consider this neither categorical nor numerical, since it's not a number and they don't fall into categories (as each passenger probably has a different name).\n",
        "*   **Sex**. This takes the values \"male\" and \"female\", treating sex as a binary. This is unfortunate, as we know that sex and gender are more nuanced, but this is common in historical datasets (and some modern datasets). This is categorical. From the table above, we can see that \"male\" occurs more frequently than \"female\", with 577 out of the 891.\n",
        "*   **Age**. This is the age of the passenger, and is numerical. From the table above, we can see that the youngest passenger was .42 (which is five months), and the oldest passenger was 80. The mean age is 29.70 and the median age is 28. Note that this has missing values, as we only have 714 values for age, while there are 891 passengers in the dataset.\n",
        "*   **SibSp**. This stands for siblings/spouses, and gives the number of sublings or spouses the passenger is traveling with. The minimum is 0 and the maximum is 8. The mean is 0.52 and the median is 0. So, we suspect that this is skewed.\n",
        "*   **Parch**. This stands for parents/children, and gives the number of parents or children the passenger is traveling with. The minimum is 0 and the maximum is 6. The mean is 0.38 and the median is 0. We suspect that this is skewed.\n",
        "*   **Ticket**. This is the ticket number for the passenger's ticket. Note that some passengers have the same ticket number, presumably when they are traveling together.\n",
        "*   **Fare**. This is the fare that the passenger paid for their ticket. The minimum is 0 and the maximum is 512.33. The mean is 32.20 and the median is 14.45. We suspect that this is skewed.\n",
        "*   **Cabin**. This is the cabin number that the passenger stayed in on the ship. An example value is C85. There are many missing values in this column, perhaps because not all passengers stayed in cabins.\n",
        "*   **Embarked**. This is the port of embarkation, which indicates where the passenger boarded the titanic. It takes values \"C\", \"Q\", and \"S\", where C stands for Cherbourg, Q stands for Queenstown, S stands for Southampton. This is categorical. Note that \"S\" is the most common, with 644 passengers. This has two missing values, as there are 889 values in this column.\n",
        "\n"
      ],
      "metadata": {
        "id": "bTW23La5-PcR"
      }
    },
    {
      "cell_type": "markdown",
      "source": [
        "To predict whether or not a passenger will survive, we will not use PassengerId, Name, Ticket, or Cabin, so we drop those columns from the dataframe. This leaves us with Pclass, Sex, Age, SibSp, Parch, Fare, and Embarked to use to predict whether or not a passenger survived."
      ],
      "metadata": {
        "id": "7bCf7uaLNSl1"
      }
    },
    {
      "cell_type": "code",
      "source": [
        "titanic_df.drop([\"PassengerId\", \"Name\", \"Ticket\", \"Cabin\"], axis=1, inplace=True)\n",
        "\n",
        "titanic_df.describe(include = \"all\")"
      ],
      "metadata": {
        "id": "r7kFMyC3Tpsb",
        "colab": {
          "base_uri": "https://localhost:8080/",
          "height": 414
        },
        "outputId": "c5fb5b03-9d69-4c9c-8c11-c416db0981c8"
      },
      "execution_count": 3,
      "outputs": [
        {
          "output_type": "execute_result",
          "data": {
            "text/plain": [
              "          Survived      Pclass   Sex         Age       SibSp       Parch  \\\n",
              "count   891.000000  891.000000   891  714.000000  891.000000  891.000000   \n",
              "unique         NaN         NaN     2         NaN         NaN         NaN   \n",
              "top            NaN         NaN  male         NaN         NaN         NaN   \n",
              "freq           NaN         NaN   577         NaN         NaN         NaN   \n",
              "mean      0.383838    2.308642   NaN   29.699118    0.523008    0.381594   \n",
              "std       0.486592    0.836071   NaN   14.526497    1.102743    0.806057   \n",
              "min       0.000000    1.000000   NaN    0.420000    0.000000    0.000000   \n",
              "25%       0.000000    2.000000   NaN   20.125000    0.000000    0.000000   \n",
              "50%       0.000000    3.000000   NaN   28.000000    0.000000    0.000000   \n",
              "75%       1.000000    3.000000   NaN   38.000000    1.000000    0.000000   \n",
              "max       1.000000    3.000000   NaN   80.000000    8.000000    6.000000   \n",
              "\n",
              "              Fare Embarked  \n",
              "count   891.000000      889  \n",
              "unique         NaN        3  \n",
              "top            NaN        S  \n",
              "freq           NaN      644  \n",
              "mean     32.204208      NaN  \n",
              "std      49.693429      NaN  \n",
              "min       0.000000      NaN  \n",
              "25%       7.910400      NaN  \n",
              "50%      14.454200      NaN  \n",
              "75%      31.000000      NaN  \n",
              "max     512.329200      NaN  "
            ],
            "text/html": [
              "\n",
              "  <div id=\"df-06509197-1235-40e5-b09c-5923e80bb234\" class=\"colab-df-container\">\n",
              "    <div>\n",
              "<style scoped>\n",
              "    .dataframe tbody tr th:only-of-type {\n",
              "        vertical-align: middle;\n",
              "    }\n",
              "\n",
              "    .dataframe tbody tr th {\n",
              "        vertical-align: top;\n",
              "    }\n",
              "\n",
              "    .dataframe thead th {\n",
              "        text-align: right;\n",
              "    }\n",
              "</style>\n",
              "<table border=\"1\" class=\"dataframe\">\n",
              "  <thead>\n",
              "    <tr style=\"text-align: right;\">\n",
              "      <th></th>\n",
              "      <th>Survived</th>\n",
              "      <th>Pclass</th>\n",
              "      <th>Sex</th>\n",
              "      <th>Age</th>\n",
              "      <th>SibSp</th>\n",
              "      <th>Parch</th>\n",
              "      <th>Fare</th>\n",
              "      <th>Embarked</th>\n",
              "    </tr>\n",
              "  </thead>\n",
              "  <tbody>\n",
              "    <tr>\n",
              "      <th>count</th>\n",
              "      <td>891.000000</td>\n",
              "      <td>891.000000</td>\n",
              "      <td>891</td>\n",
              "      <td>714.000000</td>\n",
              "      <td>891.000000</td>\n",
              "      <td>891.000000</td>\n",
              "      <td>891.000000</td>\n",
              "      <td>889</td>\n",
              "    </tr>\n",
              "    <tr>\n",
              "      <th>unique</th>\n",
              "      <td>NaN</td>\n",
              "      <td>NaN</td>\n",
              "      <td>2</td>\n",
              "      <td>NaN</td>\n",
              "      <td>NaN</td>\n",
              "      <td>NaN</td>\n",
              "      <td>NaN</td>\n",
              "      <td>3</td>\n",
              "    </tr>\n",
              "    <tr>\n",
              "      <th>top</th>\n",
              "      <td>NaN</td>\n",
              "      <td>NaN</td>\n",
              "      <td>male</td>\n",
              "      <td>NaN</td>\n",
              "      <td>NaN</td>\n",
              "      <td>NaN</td>\n",
              "      <td>NaN</td>\n",
              "      <td>S</td>\n",
              "    </tr>\n",
              "    <tr>\n",
              "      <th>freq</th>\n",
              "      <td>NaN</td>\n",
              "      <td>NaN</td>\n",
              "      <td>577</td>\n",
              "      <td>NaN</td>\n",
              "      <td>NaN</td>\n",
              "      <td>NaN</td>\n",
              "      <td>NaN</td>\n",
              "      <td>644</td>\n",
              "    </tr>\n",
              "    <tr>\n",
              "      <th>mean</th>\n",
              "      <td>0.383838</td>\n",
              "      <td>2.308642</td>\n",
              "      <td>NaN</td>\n",
              "      <td>29.699118</td>\n",
              "      <td>0.523008</td>\n",
              "      <td>0.381594</td>\n",
              "      <td>32.204208</td>\n",
              "      <td>NaN</td>\n",
              "    </tr>\n",
              "    <tr>\n",
              "      <th>std</th>\n",
              "      <td>0.486592</td>\n",
              "      <td>0.836071</td>\n",
              "      <td>NaN</td>\n",
              "      <td>14.526497</td>\n",
              "      <td>1.102743</td>\n",
              "      <td>0.806057</td>\n",
              "      <td>49.693429</td>\n",
              "      <td>NaN</td>\n",
              "    </tr>\n",
              "    <tr>\n",
              "      <th>min</th>\n",
              "      <td>0.000000</td>\n",
              "      <td>1.000000</td>\n",
              "      <td>NaN</td>\n",
              "      <td>0.420000</td>\n",
              "      <td>0.000000</td>\n",
              "      <td>0.000000</td>\n",
              "      <td>0.000000</td>\n",
              "      <td>NaN</td>\n",
              "    </tr>\n",
              "    <tr>\n",
              "      <th>25%</th>\n",
              "      <td>0.000000</td>\n",
              "      <td>2.000000</td>\n",
              "      <td>NaN</td>\n",
              "      <td>20.125000</td>\n",
              "      <td>0.000000</td>\n",
              "      <td>0.000000</td>\n",
              "      <td>7.910400</td>\n",
              "      <td>NaN</td>\n",
              "    </tr>\n",
              "    <tr>\n",
              "      <th>50%</th>\n",
              "      <td>0.000000</td>\n",
              "      <td>3.000000</td>\n",
              "      <td>NaN</td>\n",
              "      <td>28.000000</td>\n",
              "      <td>0.000000</td>\n",
              "      <td>0.000000</td>\n",
              "      <td>14.454200</td>\n",
              "      <td>NaN</td>\n",
              "    </tr>\n",
              "    <tr>\n",
              "      <th>75%</th>\n",
              "      <td>1.000000</td>\n",
              "      <td>3.000000</td>\n",
              "      <td>NaN</td>\n",
              "      <td>38.000000</td>\n",
              "      <td>1.000000</td>\n",
              "      <td>0.000000</td>\n",
              "      <td>31.000000</td>\n",
              "      <td>NaN</td>\n",
              "    </tr>\n",
              "    <tr>\n",
              "      <th>max</th>\n",
              "      <td>1.000000</td>\n",
              "      <td>3.000000</td>\n",
              "      <td>NaN</td>\n",
              "      <td>80.000000</td>\n",
              "      <td>8.000000</td>\n",
              "      <td>6.000000</td>\n",
              "      <td>512.329200</td>\n",
              "      <td>NaN</td>\n",
              "    </tr>\n",
              "  </tbody>\n",
              "</table>\n",
              "</div>\n",
              "    <div class=\"colab-df-buttons\">\n",
              "\n",
              "  <div class=\"colab-df-container\">\n",
              "    <button class=\"colab-df-convert\" onclick=\"convertToInteractive('df-06509197-1235-40e5-b09c-5923e80bb234')\"\n",
              "            title=\"Convert this dataframe to an interactive table.\"\n",
              "            style=\"display:none;\">\n",
              "\n",
              "  <svg xmlns=\"http://www.w3.org/2000/svg\" height=\"24px\" viewBox=\"0 -960 960 960\">\n",
              "    <path d=\"M120-120v-720h720v720H120Zm60-500h600v-160H180v160Zm220 220h160v-160H400v160Zm0 220h160v-160H400v160ZM180-400h160v-160H180v160Zm440 0h160v-160H620v160ZM180-180h160v-160H180v160Zm440 0h160v-160H620v160Z\"/>\n",
              "  </svg>\n",
              "    </button>\n",
              "\n",
              "  <style>\n",
              "    .colab-df-container {\n",
              "      display:flex;\n",
              "      gap: 12px;\n",
              "    }\n",
              "\n",
              "    .colab-df-convert {\n",
              "      background-color: #E8F0FE;\n",
              "      border: none;\n",
              "      border-radius: 50%;\n",
              "      cursor: pointer;\n",
              "      display: none;\n",
              "      fill: #1967D2;\n",
              "      height: 32px;\n",
              "      padding: 0 0 0 0;\n",
              "      width: 32px;\n",
              "    }\n",
              "\n",
              "    .colab-df-convert:hover {\n",
              "      background-color: #E2EBFA;\n",
              "      box-shadow: 0px 1px 2px rgba(60, 64, 67, 0.3), 0px 1px 3px 1px rgba(60, 64, 67, 0.15);\n",
              "      fill: #174EA6;\n",
              "    }\n",
              "\n",
              "    .colab-df-buttons div {\n",
              "      margin-bottom: 4px;\n",
              "    }\n",
              "\n",
              "    [theme=dark] .colab-df-convert {\n",
              "      background-color: #3B4455;\n",
              "      fill: #D2E3FC;\n",
              "    }\n",
              "\n",
              "    [theme=dark] .colab-df-convert:hover {\n",
              "      background-color: #434B5C;\n",
              "      box-shadow: 0px 1px 3px 1px rgba(0, 0, 0, 0.15);\n",
              "      filter: drop-shadow(0px 1px 2px rgba(0, 0, 0, 0.3));\n",
              "      fill: #FFFFFF;\n",
              "    }\n",
              "  </style>\n",
              "\n",
              "    <script>\n",
              "      const buttonEl =\n",
              "        document.querySelector('#df-06509197-1235-40e5-b09c-5923e80bb234 button.colab-df-convert');\n",
              "      buttonEl.style.display =\n",
              "        google.colab.kernel.accessAllowed ? 'block' : 'none';\n",
              "\n",
              "      async function convertToInteractive(key) {\n",
              "        const element = document.querySelector('#df-06509197-1235-40e5-b09c-5923e80bb234');\n",
              "        const dataTable =\n",
              "          await google.colab.kernel.invokeFunction('convertToInteractive',\n",
              "                                                    [key], {});\n",
              "        if (!dataTable) return;\n",
              "\n",
              "        const docLinkHtml = 'Like what you see? Visit the ' +\n",
              "          '<a target=\"_blank\" href=https://colab.research.google.com/notebooks/data_table.ipynb>data table notebook</a>'\n",
              "          + ' to learn more about interactive tables.';\n",
              "        element.innerHTML = '';\n",
              "        dataTable['output_type'] = 'display_data';\n",
              "        await google.colab.output.renderOutput(dataTable, element);\n",
              "        const docLink = document.createElement('div');\n",
              "        docLink.innerHTML = docLinkHtml;\n",
              "        element.appendChild(docLink);\n",
              "      }\n",
              "    </script>\n",
              "  </div>\n",
              "\n",
              "\n",
              "<div id=\"df-3f62e23c-92ef-4fe4-93ee-3ff84f4e81ca\">\n",
              "  <button class=\"colab-df-quickchart\" onclick=\"quickchart('df-3f62e23c-92ef-4fe4-93ee-3ff84f4e81ca')\"\n",
              "            title=\"Suggest charts\"\n",
              "            style=\"display:none;\">\n",
              "\n",
              "<svg xmlns=\"http://www.w3.org/2000/svg\" height=\"24px\"viewBox=\"0 0 24 24\"\n",
              "     width=\"24px\">\n",
              "    <g>\n",
              "        <path d=\"M19 3H5c-1.1 0-2 .9-2 2v14c0 1.1.9 2 2 2h14c1.1 0 2-.9 2-2V5c0-1.1-.9-2-2-2zM9 17H7v-7h2v7zm4 0h-2V7h2v10zm4 0h-2v-4h2v4z\"/>\n",
              "    </g>\n",
              "</svg>\n",
              "  </button>\n",
              "\n",
              "<style>\n",
              "  .colab-df-quickchart {\n",
              "      --bg-color: #E8F0FE;\n",
              "      --fill-color: #1967D2;\n",
              "      --hover-bg-color: #E2EBFA;\n",
              "      --hover-fill-color: #174EA6;\n",
              "      --disabled-fill-color: #AAA;\n",
              "      --disabled-bg-color: #DDD;\n",
              "  }\n",
              "\n",
              "  [theme=dark] .colab-df-quickchart {\n",
              "      --bg-color: #3B4455;\n",
              "      --fill-color: #D2E3FC;\n",
              "      --hover-bg-color: #434B5C;\n",
              "      --hover-fill-color: #FFFFFF;\n",
              "      --disabled-bg-color: #3B4455;\n",
              "      --disabled-fill-color: #666;\n",
              "  }\n",
              "\n",
              "  .colab-df-quickchart {\n",
              "    background-color: var(--bg-color);\n",
              "    border: none;\n",
              "    border-radius: 50%;\n",
              "    cursor: pointer;\n",
              "    display: none;\n",
              "    fill: var(--fill-color);\n",
              "    height: 32px;\n",
              "    padding: 0;\n",
              "    width: 32px;\n",
              "  }\n",
              "\n",
              "  .colab-df-quickchart:hover {\n",
              "    background-color: var(--hover-bg-color);\n",
              "    box-shadow: 0 1px 2px rgba(60, 64, 67, 0.3), 0 1px 3px 1px rgba(60, 64, 67, 0.15);\n",
              "    fill: var(--button-hover-fill-color);\n",
              "  }\n",
              "\n",
              "  .colab-df-quickchart-complete:disabled,\n",
              "  .colab-df-quickchart-complete:disabled:hover {\n",
              "    background-color: var(--disabled-bg-color);\n",
              "    fill: var(--disabled-fill-color);\n",
              "    box-shadow: none;\n",
              "  }\n",
              "\n",
              "  .colab-df-spinner {\n",
              "    border: 2px solid var(--fill-color);\n",
              "    border-color: transparent;\n",
              "    border-bottom-color: var(--fill-color);\n",
              "    animation:\n",
              "      spin 1s steps(1) infinite;\n",
              "  }\n",
              "\n",
              "  @keyframes spin {\n",
              "    0% {\n",
              "      border-color: transparent;\n",
              "      border-bottom-color: var(--fill-color);\n",
              "      border-left-color: var(--fill-color);\n",
              "    }\n",
              "    20% {\n",
              "      border-color: transparent;\n",
              "      border-left-color: var(--fill-color);\n",
              "      border-top-color: var(--fill-color);\n",
              "    }\n",
              "    30% {\n",
              "      border-color: transparent;\n",
              "      border-left-color: var(--fill-color);\n",
              "      border-top-color: var(--fill-color);\n",
              "      border-right-color: var(--fill-color);\n",
              "    }\n",
              "    40% {\n",
              "      border-color: transparent;\n",
              "      border-right-color: var(--fill-color);\n",
              "      border-top-color: var(--fill-color);\n",
              "    }\n",
              "    60% {\n",
              "      border-color: transparent;\n",
              "      border-right-color: var(--fill-color);\n",
              "    }\n",
              "    80% {\n",
              "      border-color: transparent;\n",
              "      border-right-color: var(--fill-color);\n",
              "      border-bottom-color: var(--fill-color);\n",
              "    }\n",
              "    90% {\n",
              "      border-color: transparent;\n",
              "      border-bottom-color: var(--fill-color);\n",
              "    }\n",
              "  }\n",
              "</style>\n",
              "\n",
              "  <script>\n",
              "    async function quickchart(key) {\n",
              "      const quickchartButtonEl =\n",
              "        document.querySelector('#' + key + ' button');\n",
              "      quickchartButtonEl.disabled = true;  // To prevent multiple clicks.\n",
              "      quickchartButtonEl.classList.add('colab-df-spinner');\n",
              "      try {\n",
              "        const charts = await google.colab.kernel.invokeFunction(\n",
              "            'suggestCharts', [key], {});\n",
              "      } catch (error) {\n",
              "        console.error('Error during call to suggestCharts:', error);\n",
              "      }\n",
              "      quickchartButtonEl.classList.remove('colab-df-spinner');\n",
              "      quickchartButtonEl.classList.add('colab-df-quickchart-complete');\n",
              "    }\n",
              "    (() => {\n",
              "      let quickchartButtonEl =\n",
              "        document.querySelector('#df-3f62e23c-92ef-4fe4-93ee-3ff84f4e81ca button');\n",
              "      quickchartButtonEl.style.display =\n",
              "        google.colab.kernel.accessAllowed ? 'block' : 'none';\n",
              "    })();\n",
              "  </script>\n",
              "</div>\n",
              "    </div>\n",
              "  </div>\n"
            ]
          },
          "metadata": {},
          "execution_count": 3
        }
      ]
    },
    {
      "cell_type": "markdown",
      "source": [
        "## Task 0: Predict Performance\n",
        "\n",
        "We will train a classifier to use Pclass, Sex, Age, SibSp, Parch, Fare, and Embarked to predict whether or not a passenger survived.\n",
        "\n",
        "Now, you should think about what \"good\" performance would be for this dataset. What is the best possible accuracy that you think is possible to achieve for this task? Why do you think that is the best possible?\n",
        "\n",
        "Note: this will be graded for completion, so just make your best guess."
      ],
      "metadata": {
        "id": "2EKsCAg9nMQb"
      }
    },
    {
      "cell_type": "markdown",
      "source": [
        "- good performance for this data would be its capacity to make more correct predications after being trained on the training data and we test on the testing portion, if there's a close accuracy measure in the state of survival afte running the test on the testing data and comapring the result aginst the actual expected outputs porvided in the testing data.\n",
        "\n",
        "- I would consider an accuracy rate of more than 90% would be accurate,altough I am thinking that some of the attributes that we dropped my affect our accuracy rate.  "
      ],
      "metadata": {
        "id": "nJJFMo43inUC"
      }
    },
    {
      "cell_type": "markdown",
      "source": [],
      "metadata": {
        "id": "bQw-uCl2Uf26"
      }
    },
    {
      "cell_type": "markdown",
      "source": [
        "## Task 1: EDA - Survived\n",
        "\n",
        "We will begin our exploratory data analysis by looking at the survived column. You will compute value counts, create a bar graph, and then comment on the distribution of the column."
      ],
      "metadata": {
        "id": "KRo-KyuRl_Mt"
      }
    },
    {
      "cell_type": "code",
      "source": [
        "# your code here - compute value counts\n",
        "\n",
        "titanic_df['Survived'].value_counts()"
      ],
      "metadata": {
        "id": "yVpo8fLcWJjo",
        "colab": {
          "base_uri": "https://localhost:8080/"
        },
        "outputId": "0fc77044-d31f-4905-823b-20819901b98f"
      },
      "execution_count": 4,
      "outputs": [
        {
          "output_type": "execute_result",
          "data": {
            "text/plain": [
              "0    549\n",
              "1    342\n",
              "Name: Survived, dtype: int64"
            ]
          },
          "metadata": {},
          "execution_count": 4
        }
      ]
    },
    {
      "cell_type": "code",
      "source": [
        "# your code here - create a bar graph\n",
        "import matplotlib.pyplot as plt\n",
        "plt.figure()\n",
        "titanic_df['Survived'].value_counts().plot.bar()\n",
        "plt.show()\n",
        "#the distriution:"
      ],
      "metadata": {
        "id": "mdlzbnuPmDj2",
        "colab": {
          "base_uri": "https://localhost:8080/",
          "height": 425
        },
        "outputId": "ecf02f52-480e-420a-b20b-12c47334a195"
      },
      "execution_count": 5,
      "outputs": [
        {
          "output_type": "display_data",
          "data": {
            "text/plain": [
              "<Figure size 640x480 with 1 Axes>"
            ],
            "image/png": "[encoded data removed]"
          },
          "metadata": {}
        }
      ]
    },
    {
      "cell_type": "markdown",
      "source": [
        "Based on your value counts and bar graph, describe the distribution for this column. Since this is best treated as categorical, be sure to indicate the mode and whether the distribution is balanced."
      ],
      "metadata": {
        "id": "sfVqk39MmFam"
      }
    },
    {
      "cell_type": "markdown",
      "source": [
        "your answer here"
      ],
      "metadata": {
        "id": "bp1w8y_zO8x2"
      }
    },
    {
      "cell_type": "markdown",
      "source": [
        "- Based on my value counts, I don't think the disribution is balanced as there are more non-survivors than there are surviviors. There are above 500 non-survivors and about 350 survivors. it is skewed to the right. and the mode is 0."
      ],
      "metadata": {
        "id": "DzXXGC9tlMVN"
      }
    },
    {
      "cell_type": "markdown",
      "source": [],
      "metadata": {
        "id": "1nruU4_qmLtp"
      }
    },
    {
      "cell_type": "markdown",
      "source": [],
      "metadata": {
        "id": "JhAZrk3rk8Mn"
      }
    },
    {
      "cell_type": "markdown",
      "source": [
        "## Task 2: EDA - Pclass\n",
        "\n",
        "Next, you'll look at Pclass. You will compute value counts, create a bar graph, and then comment on the distribution of the column."
      ],
      "metadata": {
        "id": "L3HGooWGmh4y"
      }
    },
    {
      "cell_type": "code",
      "source": [
        "# your code here - compute value counts\n",
        "titanic_df['Pclass'].value_counts()\n"
      ],
      "metadata": {
        "id": "zexorGXHWdIJ",
        "colab": {
          "base_uri": "https://localhost:8080/"
        },
        "outputId": "dfd56e7e-bcd1-4252-f51a-e8bde2533342"
      },
      "execution_count": 6,
      "outputs": [
        {
          "output_type": "execute_result",
          "data": {
            "text/plain": [
              "3    491\n",
              "1    216\n",
              "2    184\n",
              "Name: Pclass, dtype: int64"
            ]
          },
          "metadata": {},
          "execution_count": 6
        }
      ]
    },
    {
      "cell_type": "code",
      "source": [
        "# your code here - create a bar graph\n",
        "import matplotlib.pyplot as plt\n",
        "plt.figure()\n",
        "titanic_df['Pclass'].value_counts().plot.bar()\n",
        "plt.show()\n",
        "#the distribution:\n"
      ],
      "metadata": {
        "id": "miTevf3Omzux",
        "colab": {
          "base_uri": "https://localhost:8080/",
          "height": 425
        },
        "outputId": "3588506a-df02-47ce-d9de-ec138e156ae1"
      },
      "execution_count": 7,
      "outputs": [
        {
          "output_type": "display_data",
          "data": {
            "text/plain": [
              "<Figure size 640x480 with 1 Axes>"
            ],
            "image/png": "[encoded data removed]"
          },
          "metadata": {}
        }
      ]
    },
    {
      "cell_type": "markdown",
      "source": [
        "Based on your value counts and bar graph, describe the distribution for this column. Since this is ordinal with only three values, be sure to indicate the mode and whether the distribution is balanced."
      ],
      "metadata": {
        "id": "5duUJDbumq5r"
      }
    },
    {
      "cell_type": "markdown",
      "source": [
        "your answer here"
      ],
      "metadata": {
        "id": "VxgianQdPNon"
      }
    },
    {
      "cell_type": "markdown",
      "source": [
        "The distribution isn't balanced as much through there's closness between the first and second class in the amount of passengers they contain. it is skewed to the right. There are more people in the third class. 3 is the mode implying the third class."
      ],
      "metadata": {
        "id": "nFpP50dwmT0r"
      }
    },
    {
      "cell_type": "markdown",
      "source": [],
      "metadata": {
        "id": "QrMqDv1smSB3"
      }
    },
    {
      "cell_type": "markdown",
      "source": [
        "## Task 3: EDA - Sex\n",
        "\n",
        "Next, you'll look at Sex. You will compute value counts, create a bar graph, and then comment on the distribution of the column."
      ],
      "metadata": {
        "id": "Ke7SWrYWm5QH"
      }
    },
    {
      "cell_type": "code",
      "source": [
        "# your code here - compute value counts\n",
        "titanic_df['Sex'].value_counts()"
      ],
      "metadata": {
        "id": "Kx7AbW_gWrfz",
        "colab": {
          "base_uri": "https://localhost:8080/"
        },
        "outputId": "07a1df55-e57a-4d03-de00-7a9bc942a490"
      },
      "execution_count": 8,
      "outputs": [
        {
          "output_type": "execute_result",
          "data": {
            "text/plain": [
              "male      577\n",
              "female    314\n",
              "Name: Sex, dtype: int64"
            ]
          },
          "metadata": {},
          "execution_count": 8
        }
      ]
    },
    {
      "cell_type": "code",
      "source": [
        "# your code here - create a bar chart\n",
        "import matplotlib.pyplot as plt\n",
        "plt.figure()\n",
        "titanic_df['Sex'].value_counts().plot.bar()\n",
        "plt.show()\n",
        "#the distriution"
      ],
      "metadata": {
        "id": "s8UdFbfUm8pv",
        "colab": {
          "base_uri": "https://localhost:8080/",
          "height": 466
        },
        "outputId": "03c6cf02-647a-4324-9e87-6618126b6b02"
      },
      "execution_count": 9,
      "outputs": [
        {
          "output_type": "display_data",
          "data": {
            "text/plain": [
              "<Figure size 640x480 with 1 Axes>"
            ],
            "image/png": "[encoded data removed]"
          },
          "metadata": {}
        }
      ]
    },
    {
      "cell_type": "markdown",
      "source": [
        "Based on your value counts and bar graph, describe the distribution for this column. Since this is categorical, be sure to indicate the mode and whether the distribution is balanced."
      ],
      "metadata": {
        "id": "P7ixlTvonBEE"
      }
    },
    {
      "cell_type": "markdown",
      "source": [
        "Based on my value counts, I don't think the disribution is balanced as there are more males than there are females. There are above 500, close to 600 for male and a little above 300 for female. is skewed to the right. and the mode is male."
      ],
      "metadata": {
        "id": "Yfbf_NjlQgek"
      }
    },
    {
      "cell_type": "markdown",
      "source": [],
      "metadata": {
        "id": "Ep4kqQsEmy2G"
      }
    },
    {
      "cell_type": "markdown",
      "source": [
        "## Task 4: EDA - Age\n",
        "\n",
        "Next, you'll look at Age. Since this is numerical, you will make a histogram and comment on the distribution. For your histogram, experiment with the number of bins to get a helpful visualization."
      ],
      "metadata": {
        "id": "w5vDXRwunDZB"
      }
    },
    {
      "cell_type": "code",
      "source": [
        "# your code here - make a histogram\n",
        "import matplotlib.pyplot as plt\n",
        "plt.figure()\n",
        "titanic_df['Age'].hist(bins=20)\n",
        "plt.show()\n",
        "#I need to confirm that this is the right way interms of the hist,\n",
        "#for the age."
      ],
      "metadata": {
        "id": "7j3dG6HjWzM3",
        "colab": {
          "base_uri": "https://localhost:8080/",
          "height": 430
        },
        "outputId": "5b880514-846c-416a-f0a6-0dcf2db28eaa"
      },
      "execution_count": 16,
      "outputs": [
        {
          "output_type": "display_data",
          "data": {
            "text/plain": [
              "<Figure size 640x480 with 1 Axes>"
            ],
            "image/png": "[encoded data removed]"
          },
          "metadata": {}
        }
      ]
    },
    {
      "cell_type": "markdown",
      "source": [
        "Based on your histogram, describe the distribution for this column. Since this is numerical, be sure to indicate the modality and whether the data is skewed."
      ],
      "metadata": {
        "id": "RGo1s7tLnZtN"
      }
    },
    {
      "cell_type": "markdown",
      "source": [
        "your answer here"
      ],
      "metadata": {
        "id": "BpIlLrp7Q4SE"
      }
    },
    {
      "cell_type": "markdown",
      "source": [
        "the distributuion is slightly skewed to the right. the modality would be the age ranges from 20-25 as there are more people in that age range as we can infere from our histogram."
      ],
      "metadata": {
        "id": "vMAgAIjBnhPU"
      }
    },
    {
      "cell_type": "markdown",
      "source": [],
      "metadata": {
        "id": "8E-2yD75aLhO"
      }
    },
    {
      "cell_type": "markdown",
      "source": [
        "One more thing to note on Age - there are missing values, and the following line of code tells us how many missing values there are."
      ],
      "metadata": {
        "id": "FmVWuOn2Q9Wh"
      }
    },
    {
      "cell_type": "code",
      "source": [
        "titanic_df[\"Age\"].isna().sum()"
      ],
      "metadata": {
        "id": "QiOSmEJsQ8z-",
        "colab": {
          "base_uri": "https://localhost:8080/"
        },
        "outputId": "1c248119-9260-479f-8a83-074888d05af6"
      },
      "execution_count": 11,
      "outputs": [
        {
          "output_type": "execute_result",
          "data": {
            "text/plain": [
              "177"
            ]
          },
          "metadata": {},
          "execution_count": 11
        }
      ]
    },
    {
      "cell_type": "markdown",
      "source": [
        "## Task 5: EDA - SibSp\n",
        "\n",
        "Next, you'll look at SibSp. Since this is numerical, you will make a histogram and comment on the distribution. For your histogram, experiment with the number of bins to get a helpful visualization."
      ],
      "metadata": {
        "id": "of1NcInzncJk"
      }
    },
    {
      "cell_type": "code",
      "source": [
        "# your code here - make a histogram\n",
        "\n",
        "import matplotlib.pyplot as plt\n",
        "plt.figure()\n",
        "titanic_df['SibSp'].hist(bins=20)\n",
        "plt.show()\n",
        "#I need to confirm that this is the right way interms of the hist,\n",
        "#for the age"
      ],
      "metadata": {
        "id": "8PXu6Dl-XjHV",
        "colab": {
          "base_uri": "https://localhost:8080/",
          "height": 430
        },
        "outputId": "d66575a1-04ca-46b3-8946-7a643af01d8a"
      },
      "execution_count": 15,
      "outputs": [
        {
          "output_type": "display_data",
          "data": {
            "text/plain": [
              "<Figure size 640x480 with 1 Axes>"
            ],
            "image/png": "[encoded data removed]"
          },
          "metadata": {}
        }
      ]
    },
    {
      "cell_type": "markdown",
      "source": [
        "Based on your histogram, describe the distribution for this column. Since this is numerical, be sure to indicate the modality and whether the data is skewed."
      ],
      "metadata": {
        "id": "d8uNyB15np9W"
      }
    },
    {
      "cell_type": "markdown",
      "source": [],
      "metadata": {
        "id": "n1GYvvSaprZv"
      }
    },
    {
      "cell_type": "markdown",
      "source": [],
      "metadata": {
        "id": "WttBPikpanMD"
      }
    },
    {
      "cell_type": "markdown",
      "source": [
        "the distribution is skewed to the right. It saying that a lot of people didnt have any spouses or siblings with them. the modality would be 0."
      ],
      "metadata": {
        "id": "x0au5rNURPf1"
      }
    },
    {
      "cell_type": "markdown",
      "source": [
        "## Task 6: EDA - Parch\n",
        "\n",
        "Next, you'll look at Parch. Since this is numerical, you will make a histogram and comment on the distribution. For your histogram, experiment with the number of bins to get a helpful visualization."
      ],
      "metadata": {
        "id": "RiK_Vxl5nksT"
      }
    },
    {
      "cell_type": "code",
      "source": [
        "# your code here - make a histogram\n",
        "# your code here - make a histogram\n",
        "import matplotlib.pyplot as plt\n",
        "plt.figure()\n",
        "titanic_df['Parch'].hist(bins=20)\n",
        "plt.show()\n",
        "#I need to confirm that this is the right way interms of the hist,\n",
        "#for the age"
      ],
      "metadata": {
        "id": "0Hi-qCDTX6tU",
        "colab": {
          "base_uri": "https://localhost:8080/",
          "height": 430
        },
        "outputId": "84131532-d73b-4038-b16f-bec71ee9b1f8"
      },
      "execution_count": 17,
      "outputs": [
        {
          "output_type": "display_data",
          "data": {
            "text/plain": [
              "<Figure size 640x480 with 1 Axes>"
            ],
            "image/png": "[encoded data removed]"
          },
          "metadata": {}
        }
      ]
    },
    {
      "cell_type": "markdown",
      "source": [
        "Based on your histogram, describe the distribution for this column. Since this is numerical, be sure to indicate the modality and whether the data is skewed."
      ],
      "metadata": {
        "id": "NZz-QOrNnpeC"
      }
    },
    {
      "cell_type": "markdown",
      "source": [
        "its is skewed to the right. The modality is 0. the data shows that most peole on board didn't have their parent or childeren with them."
      ],
      "metadata": {
        "id": "c425oM9TrAHT"
      }
    },
    {
      "cell_type": "markdown",
      "source": [
        "## Task 7: EDA - Fare\n",
        "\n",
        "Next, you'll look at Fare. Since this is numerical, you will make a histogram and comment on the distribution. For your histogram, experiment with the number of bins to get a helpful visualization."
      ],
      "metadata": {
        "id": "Qf6iZWJgnvKY"
      }
    },
    {
      "cell_type": "code",
      "source": [
        "# your code here - make a histogram\n",
        "# your code here - make a histogram\n",
        "import matplotlib.pyplot as plt\n",
        "plt.figure()\n",
        "titanic_df['Fare'].hist(bins=20)\n",
        "plt.show()\n",
        "#I need to confirm that this is the right way interms of the hist,\n",
        "#for the age"
      ],
      "metadata": {
        "id": "_gse_98wYK6_",
        "colab": {
          "base_uri": "https://localhost:8080/",
          "height": 430
        },
        "outputId": "d220d86a-b746-4e54-a21d-740dfac925f4"
      },
      "execution_count": 21,
      "outputs": [
        {
          "output_type": "display_data",
          "data": {
            "text/plain": [
              "<Figure size 640x480 with 1 Axes>"
            ],
            "image/png": "[encoded data removed]"
          },
          "metadata": {}
        }
      ]
    },
    {
      "cell_type": "markdown",
      "source": [
        "Based on your histogram, describe the distribution for this column. Since this is numerical, be sure to indicate the modality and whether the data is skewed."
      ],
      "metadata": {
        "id": "q2QzIi9Wn2Lp"
      }
    },
    {
      "cell_type": "markdown",
      "source": [
        "it is skewed to the right and te modality is in the range between 0 -30, as more people purchased third class."
      ],
      "metadata": {
        "id": "O3aC2wxDrUWW"
      }
    },
    {
      "cell_type": "markdown",
      "source": [
        "## Task 9: EDA - Embarked\n",
        "\n",
        "Next, you'll look at Embarked. You will compute value counts, create a bar graph, and then comment on the distribution of the column."
      ],
      "metadata": {
        "id": "3dUeaSrIn4Uz"
      }
    },
    {
      "cell_type": "code",
      "source": [
        "# your code here - compute value counts\n",
        "titanic_df['Embarked'].value_counts()"
      ],
      "metadata": {
        "id": "5N7WtzVKYW8p",
        "colab": {
          "base_uri": "https://localhost:8080/"
        },
        "outputId": "17a7e145-1aba-437e-a8ab-6171b3726725"
      },
      "execution_count": 22,
      "outputs": [
        {
          "output_type": "execute_result",
          "data": {
            "text/plain": [
              "S    644\n",
              "C    168\n",
              "Q     77\n",
              "Name: Embarked, dtype: int64"
            ]
          },
          "metadata": {},
          "execution_count": 22
        }
      ]
    },
    {
      "cell_type": "code",
      "source": [
        "# your code here - make a bar graph\n",
        "import matplotlib.pyplot as plt\n",
        "plt.figure()\n",
        "titanic_df['Embarked'].value_counts().plot.bar()\n",
        "plt.show()"
      ],
      "metadata": {
        "id": "MXLwzQwbn9qE",
        "colab": {
          "base_uri": "https://localhost:8080/",
          "height": 427
        },
        "outputId": "2189b9dd-4fb0-4049-d71f-916d0379333b"
      },
      "execution_count": 23,
      "outputs": [
        {
          "output_type": "display_data",
          "data": {
            "text/plain": [
              "<Figure size 640x480 with 1 Axes>"
            ],
            "image/png": "[encoded data removed]"
          },
          "metadata": {}
        }
      ]
    },
    {
      "cell_type": "markdown",
      "source": [
        "Based on your value counts and bar graph, describe the distribution for this column. Since this is categorical, be sure to indicate the mode and whether the distribution is balanced."
      ],
      "metadata": {
        "id": "2SBOcaDbTF8P"
      }
    },
    {
      "cell_type": "markdown",
      "source": [
        "its skewed to the right. Most people emabrked from southampton, so S is the mode. it's not balanced."
      ],
      "metadata": {
        "id": "5fiVf1jMsIly"
      }
    },
    {
      "cell_type": "markdown",
      "source": [
        "Also note that we have missing values in Embarked. The following line of code counts how many."
      ],
      "metadata": {
        "id": "Il9dhaTNTN6P"
      }
    },
    {
      "cell_type": "code",
      "source": [
        "titanic_df[\"Embarked\"].isna().sum()"
      ],
      "metadata": {
        "id": "HZ2JnKZ0agga",
        "colab": {
          "base_uri": "https://localhost:8080/"
        },
        "outputId": "1988dd6c-8878-4ca1-c01f-e1702ca219b5"
      },
      "execution_count": 25,
      "outputs": [
        {
          "output_type": "execute_result",
          "data": {
            "text/plain": [
              "2"
            ]
          },
          "metadata": {},
          "execution_count": 25
        }
      ]
    },
    {
      "cell_type": "markdown",
      "source": [
        "## Task 10: Data Cleaning - Conversions\n",
        "\n",
        "Note that Sex and Embarked are both categorical, with strings as values. The SciKit-Learn decision tree classifier only allows for numbers as feature values, so we will need to convert the string values into numbers.\n",
        "\n",
        "We start with Sex. Here we define a function to make the conversion. This function converts \"male\" to 0 and \"female\" to 1.\n",
        "\n",
        "Then, we use the `pandas` method `apply` to apply this function to all values in the column for Sex."
      ],
      "metadata": {
        "id": "uh9o_1m4oEFB"
      }
    },
    {
      "cell_type": "code",
      "source": [
        "def convert_sex(text_sex:str) -> int:\n",
        "  \"\"\"Takes a string for the Sex, and returns 0 if the string is 'male', otherwise returns 1\"\"\"\n",
        "  if text_sex == \"male\":\n",
        "    return 0\n",
        "  if text_sex == \"female\":\n",
        "    return 1\n",
        "\n",
        "# apply the conversion to all values in the Sex column\n",
        "titanic_df[\"Sex\"] = titanic_df[\"Sex\"].apply(convert_sex) #we call the fucntion."
      ],
      "metadata": {
        "id": "wy4v2vAog-px"
      },
      "execution_count": 26,
      "outputs": []
    },
    {
      "cell_type": "markdown",
      "source": [
        "Now when we look at value counts for Sex, we can see that they're represented as 0 and 1."
      ],
      "metadata": {
        "id": "oniMcE53ULjS"
      }
    },
    {
      "cell_type": "code",
      "source": [
        "titanic_df[\"Sex\"].value_counts()"
      ],
      "metadata": {
        "id": "rlcrietHhAfK",
        "colab": {
          "base_uri": "https://localhost:8080/"
        },
        "outputId": "448d0809-f42c-4f02-eec5-eed3a487fb56"
      },
      "execution_count": 27,
      "outputs": [
        {
          "output_type": "execute_result",
          "data": {
            "text/plain": [
              "0    577\n",
              "1    314\n",
              "Name: Sex, dtype: int64"
            ]
          },
          "metadata": {},
          "execution_count": 27
        }
      ]
    },
    {
      "cell_type": "markdown",
      "source": [
        "Now, it's your turn! You will convert the Embarked column to numbers. We will map 'S' to 0, 'C' to 1, and 'Q' to 2. Note that this imposes an order on these categorical values. In this case, we put them in order that the titanic stopped at the locations. However, this might not be a useful order for classification - later we will see a method for encoding categorical values as numbers, that does not impose an order."
      ],
      "metadata": {
        "id": "ZoZNH31YVDM5"
      }
    },
    {
      "cell_type": "code",
      "source": [
        "def convert_embarked(text_embarked:str) -> int:\n",
        "  if text_embarked == \"S\":\n",
        "    return 0\n",
        "\n",
        "  if text_embarked == \"C\":\n",
        "    return 1\n",
        "  if text_embarked ==\"Q\":\n",
        "    return 2\n",
        "\n",
        "  \"\"\"Takes a string, 'S', 'C', or 'Q'. If the string is 'S', return 0. For 'C', return 1. For 'Q', return 2\"\"\"\n",
        "\n",
        "\n",
        "# your code here - apply the conversion to the Embarked column\n",
        "titanic_df[\"Embarked\"] = titanic_df[\"Embarked\"].apply(convert_embarked)\n",
        "\n"
      ],
      "metadata": {
        "id": "WxWWpvBrhBCT"
      },
      "execution_count": 28,
      "outputs": []
    },
    {
      "cell_type": "code",
      "source": [
        "# TEST CELL - DO NOT CHANGE - RUN THIS CELL TO CHECK YOUR WORK\n",
        "# Note: passing this cell doesn't guarantee your code is correct or that you will get full credit,\n",
        "# but should be used to help you check your work\n",
        "assert(convert_embarked('S') == 0)\n",
        "assert(convert_embarked('C') == 1)\n",
        "assert(convert_embarked('Q') == 2)\n",
        "assert(convert_embarked('Z') == None)\n",
        "assert(list(titanic_df[\"Embarked\"])[:10] == [0.0, 1.0, 0.0, 0.0, 0.0, 2.0, 0.0, 0.0, 0.0, 1.0])\n",
        "print(\"Tests for the function find_place passed, but be sure to test your own code as well!\")"
      ],
      "metadata": {
        "id": "V1b6XPv8fk_T",
        "colab": {
          "base_uri": "https://localhost:8080/"
        },
        "outputId": "de281f12-ab3e-4522-b392-961ed5ad0500"
      },
      "execution_count": 29,
      "outputs": [
        {
          "output_type": "stream",
          "name": "stdout",
          "text": [
            "Tests for the function find_place passed, but be sure to test your own code as well!\n"
          ]
        }
      ]
    },
    {
      "cell_type": "markdown",
      "source": [
        "When you look at value counts, you should see that the values are now 0, 1, and 2."
      ],
      "metadata": {
        "id": "8ZrHtZ35ViAU"
      }
    },
    {
      "cell_type": "code",
      "source": [
        "titanic_df[\"Embarked\"].value_counts() #is the float ok?"
      ],
      "metadata": {
        "id": "npjCCjM2hDmY",
        "colab": {
          "base_uri": "https://localhost:8080/"
        },
        "outputId": "b469d561-f329-4dac-c4ca-a43588584253"
      },
      "execution_count": 30,
      "outputs": [
        {
          "output_type": "execute_result",
          "data": {
            "text/plain": [
              "0.0    644\n",
              "1.0    168\n",
              "2.0     77\n",
              "Name: Embarked, dtype: int64"
            ]
          },
          "metadata": {},
          "execution_count": 30
        }
      ]
    },
    {
      "cell_type": "markdown",
      "source": [
        "## Data Cleaning - Missing Values\n",
        "\n",
        "Next, we will deal with the missing values. The following line of code tells us how many missing values are in each column."
      ],
      "metadata": {
        "id": "X0K2p7-aodam"
      }
    },
    {
      "cell_type": "code",
      "source": [
        "titanic_df.isna().sum(axis = 0)"
      ],
      "metadata": {
        "id": "vWT3vD6CoY8o",
        "colab": {
          "base_uri": "https://localhost:8080/"
        },
        "outputId": "032d0fec-8dbe-45fd-8b23-3f2fe7a5032d"
      },
      "execution_count": 31,
      "outputs": [
        {
          "output_type": "execute_result",
          "data": {
            "text/plain": [
              "Survived      0\n",
              "Pclass        0\n",
              "Sex           0\n",
              "Age         177\n",
              "SibSp         0\n",
              "Parch         0\n",
              "Fare          0\n",
              "Embarked      2\n",
              "dtype: int64"
            ]
          },
          "metadata": {},
          "execution_count": 31
        }
      ]
    },
    {
      "cell_type": "markdown",
      "source": [
        "Now, we're going to fill in missing values with 0. In general, we need to be a bit careful about how we fill in missing values, and there are better options than just choosing 0. We'll cover this later in the course."
      ],
      "metadata": {
        "id": "qUpS2YcFV9yI"
      }
    },
    {
      "cell_type": "code",
      "source": [
        "titanic_df.fillna(0, inplace=True)"
      ],
      "metadata": {
        "id": "nfl0PZA1ikEN"
      },
      "execution_count": 32,
      "outputs": []
    },
    {
      "cell_type": "markdown",
      "source": [
        "After running the line above, we can check to see that there are now no missing values."
      ],
      "metadata": {
        "id": "JJWoGf3dWTc7"
      }
    },
    {
      "cell_type": "code",
      "source": [
        "titanic_df.isna().sum(axis = 0)"
      ],
      "metadata": {
        "id": "ZEWTf6xuWYER",
        "colab": {
          "base_uri": "https://localhost:8080/"
        },
        "outputId": "959b395b-0f83-4fc2-a266-29e8d88f7694"
      },
      "execution_count": 33,
      "outputs": [
        {
          "output_type": "execute_result",
          "data": {
            "text/plain": [
              "Survived    0\n",
              "Pclass      0\n",
              "Sex         0\n",
              "Age         0\n",
              "SibSp       0\n",
              "Parch       0\n",
              "Fare        0\n",
              "Embarked    0\n",
              "dtype: int64"
            ]
          },
          "metadata": {},
          "execution_count": 33
        }
      ]
    },
    {
      "cell_type": "markdown",
      "source": [
        "**Note: Later, we will see how we can use the results of our exploratory data analysis to perform data cleaning and transformations that improve the performance of our machine learning algorithms. For this project, we'll just make note of the distributions of our attributes, and keep data cleaning to a minimum**"
      ],
      "metadata": {
        "id": "G9oonYUma14f"
      }
    },
    {
      "cell_type": "markdown",
      "source": [
        "## Task 11: Features and Target\n",
        "\n",
        "Now, we will split the data into feature values and target values. Since we are using Pclass, Sex, Age, SibSp, Parch, Fare, and Embarked to predict Survived, our features are Pclass, Sex, Age, SibSp, Parch, Fare, and Embarked, and our target is Survived."
      ],
      "metadata": {
        "id": "JWuW5BNrotPk"
      }
    },
    {
      "cell_type": "code",
      "source": [
        "features = [\"Pclass\", \"Sex\", \"Age\", \"SibSp\", \"Parch\", \"Fare\", \"Embarked\"]\n",
        "\n",
        "X = titanic_df[features].values\n",
        "y = titanic_df[\"Survived\"].values"
      ],
      "metadata": {
        "id": "GDT1lKTLhW9C"
      },
      "execution_count": 34,
      "outputs": []
    },
    {
      "cell_type": "code",
      "source": [
        "# TEST CELL - DO NOT CHANGE - RUN THIS CELL TO CHECK YOUR WORK\n",
        "# Note: passing this cell doesn't guarantee your code is correct or that you will get full credit,\n",
        "# but should be used to help you check your work\n",
        "assert(X.shape == (891, 7))\n",
        "assert(y.shape == (891,))\n",
        "assert(list(X[0][:5]) == [3.0, 0.0, 22.0, 1.0, 0.0])\n",
        "assert(list(y[:5]) == [0, 1, 1, 1, 0])\n",
        "print(\"Tests for the function find_place passed, but be sure to test your own code as well!\")"
      ],
      "metadata": {
        "id": "2MgvOsqjgh8s",
        "colab": {
          "base_uri": "https://localhost:8080/"
        },
        "outputId": "3328fd7d-debf-4287-fc98-47ece79d72dd"
      },
      "execution_count": null,
      "outputs": [
        {
          "output_type": "stream",
          "name": "stdout",
          "text": [
            "Tests for the function find_place passed, but be sure to test your own code as well!\n"
          ]
        }
      ]
    },
    {
      "cell_type": "markdown",
      "source": [
        "## Task 12: Train-Test Split\n",
        "\n",
        "Now, split the data into a training set and a testing set. For the function `train_test_split` from SciKit-Learn, use a test size of 0.2 and a random state of 42."
      ],
      "metadata": {
        "id": "R8d6r0Uooxy4"
      }
    },
    {
      "cell_type": "code",
      "source": [
        "from sklearn.model_selection import train_test_split\n",
        "\n",
        "X_train, X_test, y_train, y_test =  train_test_split(X, y, test_size=0.2, random_state=42)"
      ],
      "metadata": {
        "id": "CNpe3hQThbTD"
      },
      "execution_count": 44,
      "outputs": []
    },
    {
      "cell_type": "code",
      "source": [
        "# TEST CELL - DO NOT CHANGE - RUN THIS CELL TO CHECK YOUR WORK\n",
        "# Note: passing this cell doesn't guarantee your code is correct or that you will get full credit,\n",
        "# but should be used to help you check your work\n",
        "assert(X_train.shape == (712, 7))\n",
        "assert(y_train.shape == (712,))\n",
        "assert(X_test.shape == (179, 7))\n",
        "assert(y_test.shape == (179,))\n",
        "assert(list(y_test[:10]) == [1, 0, 0, 1, 1, 1, 1, 0, 1, 1])\n",
        "assert(list(X_train[5][:10]) == [1.0, 0.0, 24.0, 0.0, 1.0, 247.5208, 1.0])\n",
        "print(\"Tests for the function find_place passed, but be sure to test your own code as well!\")"
      ],
      "metadata": {
        "id": "u-T0HDyEhgBg",
        "colab": {
          "base_uri": "https://localhost:8080/"
        },
        "outputId": "52dde412-25a4-424e-e528-c95341d6ab12"
      },
      "execution_count": null,
      "outputs": [
        {
          "output_type": "stream",
          "name": "stdout",
          "text": [
            "Tests for the function find_place passed, but be sure to test your own code as well!\n"
          ]
        }
      ]
    },
    {
      "cell_type": "markdown",
      "source": [
        "## Task 13: Train Model\n",
        "\n",
        "Now, you'll make a decision tree classifier, and train it on your training data. For the classifier, use a random state of 42."
      ],
      "metadata": {
        "id": "nldqUUN4o_23"
      }
    },
    {
      "cell_type": "code",
      "source": [
        "from sklearn.tree import DecisionTreeClassifier\n",
        "\n",
        "clf = DecisionTreeClassifier(random_state=42)\n",
        "# your code here - train your classifier on the training data\n",
        "clf=clf.fit(X_train,y_train)"
      ],
      "metadata": {
        "id": "Y0fL468VcBux"
      },
      "execution_count": 38,
      "outputs": []
    },
    {
      "cell_type": "code",
      "source": [
        "# TEST CELL - DO NOT CHANGE - RUN THIS CELL TO CHECK YOUR WORK\n",
        "# Note: passing this cell doesn't guarantee your code is correct or that you will get full credit,\n",
        "# but should be used to help you check your work\n",
        "assert(clf.random_state == 42)\n",
        "assert(clf.n_classes_ == 2)\n",
        "#assert(clf.n_features_ == 7)\n",
        "print(\"Tests for the function find_place passed, but be sure to test your own code as well!\")"
      ],
      "metadata": {
        "id": "0AsL1vS9jrCc",
        "colab": {
          "base_uri": "https://localhost:8080/"
        },
        "outputId": "68da58db-0b90-4461-82d8-f7924ef4071b"
      },
      "execution_count": 40,
      "outputs": [
        {
          "output_type": "stream",
          "name": "stdout",
          "text": [
            "Tests for the function find_place passed, but be sure to test your own code as well!\n"
          ]
        }
      ]
    },
    {
      "cell_type": "markdown",
      "source": [
        "## Task 14: Predict\n",
        "\n",
        "Next, use your trained classifier to predict labels for the testing set."
      ],
      "metadata": {
        "id": "8sdYijGnpHzn"
      }
    },
    {
      "cell_type": "code",
      "source": [
        "y_pred = clf.predict(X_test)"
      ],
      "metadata": {
        "id": "d0ZCaYz6i1ob"
      },
      "execution_count": 41,
      "outputs": []
    },
    {
      "cell_type": "code",
      "source": [
        "# TEST CELL - DO NOT CHANGE - RUN THIS CELL TO CHECK YOUR WORK\n",
        "# Note: passing this cell doesn't guarantee your code is correct or that you will get full credit,\n",
        "# but should be used to help you check your work\n",
        "assert(list(y_pred[:20]) == [0, 1, 1, 1, 1, 1, 1, 0, 1, 1, 1, 0, 0, 0, 0, 1, 1, 1, 0, 0])\n",
        "print(\"Tests for the function find_place passed, but be sure to test your own code as well!\")"
      ],
      "metadata": {
        "id": "ts7djLUekUQz",
        "colab": {
          "base_uri": "https://localhost:8080/"
        },
        "outputId": "6c822f92-ef75-46a6-cdd1-43f9b08943c2"
      },
      "execution_count": 42,
      "outputs": [
        {
          "output_type": "stream",
          "name": "stdout",
          "text": [
            "Tests for the function find_place passed, but be sure to test your own code as well!\n"
          ]
        }
      ]
    },
    {
      "cell_type": "markdown",
      "source": [
        "## Task 15: Accuracy\n",
        "\n",
        "We'll now evaluate the performance of your classifier, by comparing the predicted labels for the testing set with the true labels. We'll first do this by computing the accuracy."
      ],
      "metadata": {
        "id": "WGMeMOi1pKkn"
      }
    },
    {
      "cell_type": "code",
      "source": [
        "from sklearn.metrics import accuracy_score\n",
        "y_pred=clf.predict(X_test)\n",
        "accuracy = accuracy_score(y_test,y_pred)\n",
        "accuracy"
      ],
      "metadata": {
        "id": "GZeU-6Hyi4kU",
        "colab": {
          "base_uri": "https://localhost:8080/"
        },
        "outputId": "5ccd4e33-1f42-408d-bb76-b0b8f6ae02e0"
      },
      "execution_count": 45,
      "outputs": [
        {
          "output_type": "execute_result",
          "data": {
            "text/plain": [
              "0.770949720670391"
            ]
          },
          "metadata": {},
          "execution_count": 45
        }
      ]
    },
    {
      "cell_type": "code",
      "source": [
        "# TEST CELL - DO NOT CHANGE - RUN THIS CELL TO CHECK YOUR WORK\n",
        "# Note: passing this cell doesn't guarantee your code is correct or that you will get full credit,\n",
        "# but should be used to help you check your work\n",
        "assert(round(accuracy, 2) == 0.77)\n",
        "print(\"Tests for the function find_place passed, but be sure to test your own code as well!\")"
      ],
      "metadata": {
        "id": "kSOJCbYhkjP-"
      },
      "execution_count": null,
      "outputs": []
    },
    {
      "cell_type": "markdown",
      "source": [
        "## Task 16: Compare with Your Guess\n",
        "\n",
        "Compare your accuracy score with your prediction in Task 0. Do you think this is good performance for this data? Do you think that your guess was a reasonable goal?"
      ],
      "metadata": {
        "id": "6ETnAq05p-oU"
      }
    },
    {
      "cell_type": "markdown",
      "source": [
        "comparing it my guess wasn't a reasonable goal as I had precicted a higher rate, my intial predictions were worng."
      ],
      "metadata": {
        "id": "0yKlGVZwYjYz"
      }
    },
    {
      "cell_type": "markdown",
      "source": [
        "## Task 17: Confusion Matrix\n",
        "\n",
        "Now, we'll get a more nuanced view of the performance, by computing the confusion matrix. We give you the code to make the confusion matrix, you just need to read the results below."
      ],
      "metadata": {
        "id": "djbr4xFlqGgs"
      }
    },
    {
      "cell_type": "code",
      "source": [
        "from sklearn.metrics import confusion_matrix, ConfusionMatrixDisplay\n",
        "\n",
        "num_labels = [0, 1]\n",
        "labels = [\"Died\", \"Survived\"]\n",
        "\n",
        "cm = confusion_matrix(y_test, y_pred, labels = num_labels)\n",
        "cmd = ConfusionMatrixDisplay(cm, display_labels = labels)\n",
        "cmd.plot()"
      ],
      "metadata": {
        "id": "UGZZVq8pi60P",
        "colab": {
          "base_uri": "https://localhost:8080/",
          "height": 467
        },
        "outputId": "30c885c5-5cfb-4c23-a264-2b09006c7db5"
      },
      "execution_count": 46,
      "outputs": [
        {
          "output_type": "execute_result",
          "data": {
            "text/plain": [
              "<sklearn.metrics._plot.confusion_matrix.ConfusionMatrixDisplay at 0x7c551990b220>"
            ]
          },
          "metadata": {},
          "execution_count": 46
        },
        {
          "output_type": "display_data",
          "data": {
            "text/plain": [
              "<Figure size 640x480 with 2 Axes>"
            ],
            "image/png": "[encoded data removed]"
          },
          "metadata": {}
        }
      ]
    },
    {
      "cell_type": "markdown",
      "source": [
        "For the test set, how many people did your model predict died, and who actually died?"
      ],
      "metadata": {
        "id": "2lGKECQQYxQ3"
      }
    },
    {
      "cell_type": "markdown",
      "source": [
        "the people that model precicted to be dead were 102, but 83 actually died."
      ],
      "metadata": {
        "id": "BZtB_6vmY5sz"
      }
    },
    {
      "cell_type": "markdown",
      "source": [
        "For the test set, how many people did your model predict died, but who actually survived?"
      ],
      "metadata": {
        "id": "cvs00y6AY6uu"
      }
    },
    {
      "cell_type": "markdown",
      "source": [
        "19 was predicted as dead but were alive."
      ],
      "metadata": {
        "id": "XkitPK2qY-zv"
      }
    },
    {
      "cell_type": "markdown",
      "source": [
        "For the test set, how many people did your model predict survived, but who actually died?"
      ],
      "metadata": {
        "id": "SJ13uG3vY_oN"
      }
    },
    {
      "cell_type": "markdown",
      "source": [
        "22"
      ],
      "metadata": {
        "id": "H8dDJ9UXZI6D"
      }
    },
    {
      "cell_type": "markdown",
      "source": [
        "For the test set, how many people did your model predict survived, and who actually survived?"
      ],
      "metadata": {
        "id": "S6KjWefKZJSW"
      }
    },
    {
      "cell_type": "markdown",
      "source": [
        "77 were predicted to die, but 55 actually survived."
      ],
      "metadata": {
        "id": "B7MbY6u-wmfa"
      }
    },
    {
      "cell_type": "markdown",
      "source": [
        "## Task 18: Decisions (2 points)\n",
        "\n",
        "Now, let's look at the decision tree model that we produced. By looking at the tree itself, we can see how our machine learning model made decisions, and which features were most important for its decisions.\n",
        "\n",
        "Below, we plot the entire decision tree - but the tree is too big to reasonably look at the entire thing."
      ],
      "metadata": {
        "id": "DFl3z4fLpRXt"
      }
    },
    {
      "cell_type": "code",
      "source": [
        "from sklearn.tree import plot_tree\n",
        "import matplotlib.pyplot as plt\n",
        "\n",
        "plt.figure()\n",
        "plot_tree(clf, feature_names = features, class_names = [\"Died\", \"Survived\"])\n",
        "plt.show()"
      ],
      "metadata": {
        "id": "4BPNTUuli8-h",
        "colab": {
          "base_uri": "https://localhost:8080/",
          "height": 406
        },
        "outputId": "2145009a-b6b0-461f-d4c4-c12c413ef455"
      },
      "execution_count": 47,
      "outputs": [
        {
          "output_type": "display_data",
          "data": {
            "text/plain": [
              "<Figure size 640x480 with 1 Axes>"
            ],
            "image/png": "[encoded data removed]"
          },
          "metadata": {}
        }
      ]
    },
    {
      "cell_type": "markdown",
      "source": [
        "Since that was too big, let's just look at the first two layers of this tree."
      ],
      "metadata": {
        "id": "3XsBIBiQZn15"
      }
    },
    {
      "cell_type": "code",
      "source": [
        "plt.figure()\n",
        "plot_tree(clf, max_depth = 1, feature_names = features, class_names = [\"Died\", \"Survived\"])\n",
        "plt.show()"
      ],
      "metadata": {
        "id": "K8dIFZ_HjpGC",
        "colab": {
          "base_uri": "https://localhost:8080/",
          "height": 406
        },
        "outputId": "d8f1b1fb-9ae5-45dc-c1b8-3dc9d55c27b3"
      },
      "execution_count": 48,
      "outputs": [
        {
          "output_type": "display_data",
          "data": {
            "text/plain": [
              "<Figure size 640x480 with 1 Axes>"
            ],
            "image/png": "[encoded data removed]"
          },
          "metadata": {}
        }
      ]
    },
    {
      "cell_type": "markdown",
      "source": [
        "Here's how to read this information, for the top node:\n",
        "\n",
        "\n",
        "*   The decision tree branches based on the value of Sex (0 or 1). If the value is less than or equal to 0.5 (in this case, that would mean that it's 0, and the passenger is male), we follow the left branch. If the value is greater than 0.5 (in this case, that would mean that it's a 1, and the passenger is female), we follow the right branch.\n",
        "*   gini is gini impurity, which we will cover later.\n",
        "*   samples is the number of samples that reach this node (from the training set). In this case, all of the samples go to the top node, so this is the total number of samples in our training set.\n",
        "*   value tells us how many samples that reach this node fall in each class (died or survived). For the top node, 444 of the samples here died, while 268 survived.\n",
        "*   class gives us the majority class of the samples at this node. Here, the majority died.\n",
        "\n",
        "For the next node on the right:\n",
        "\n",
        "*   Remember that the samples with Sex greater than 0.5 follow this path, so the samples at this node are all female passengers.\n",
        "*   The next decision is based on Pclass. If the passenger's class is 1 or 2, we follow the left branch, continuing down the tree. If the passenger's class is 3, we follow the right branch.\n",
        "*   Of the samples here (so, of the female passengers from the training set), 64 died and 181 survived.\n",
        "*   The majority of samples here (so, the majority of female passengers in the training set) survived.\n",
        "\n"
      ],
      "metadata": {
        "id": "NwI_WdXsZ0pB"
      }
    },
    {
      "cell_type": "markdown",
      "source": [
        "Now, it's your turn to interpret the node on the left. Answer the following questions:\n",
        "\n",
        "What do all of the samples that reach this node have in common?"
      ],
      "metadata": {
        "id": "YPE7B8D3e0SV"
      }
    },
    {
      "cell_type": "markdown",
      "source": [
        "your answer here"
      ],
      "metadata": {
        "id": "0526MqrCe-0e"
      }
    },
    {
      "cell_type": "markdown",
      "source": [
        "passengers are most likely in the first class, most of them didn't survive."
      ],
      "metadata": {
        "id": "I_X_6M5PxvmH"
      }
    },
    {
      "cell_type": "markdown",
      "source": [
        "What is the next decision based on? Which passengers go which direction from here?"
      ],
      "metadata": {
        "id": "nSeV7p2Se_8J"
      }
    },
    {
      "cell_type": "markdown",
      "source": [
        "passenger classes with value less than or equal to 1.5 go to the left, while passengers with a class greater than or equal to 2.5 go to the right."
      ],
      "metadata": {
        "id": "wefa3lTifGOq"
      }
    },
    {
      "cell_type": "markdown",
      "source": [
        "Of the sames here, how many died and how many survived?"
      ],
      "metadata": {
        "id": "KiH0uEIDfHDJ"
      }
    },
    {
      "cell_type": "markdown",
      "source": [
        "245 survived and 467 died"
      ],
      "metadata": {
        "id": "vtZp1IJ3fKN9"
      }
    },
    {
      "cell_type": "markdown",
      "source": [
        "What is the majority class of samples at this node?"
      ],
      "metadata": {
        "id": "GstU3Q2RfKxz"
      }
    },
    {
      "cell_type": "markdown",
      "source": [
        "The majority class of samples at this node is “Died”."
      ],
      "metadata": {
        "id": "9fa-9q2dfPBY"
      }
    },
    {
      "cell_type": "markdown",
      "source": [
        "What does this decision tree tell you about survival of male vs. female passengers on the titanic?"
      ],
      "metadata": {
        "id": "7u86oEIEfQnT"
      }
    },
    {
      "cell_type": "markdown",
      "source": [
        " This decision tree tells us that the survival of male passengers  was lower than that of female passengers."
      ],
      "metadata": {
        "id": "ENz0SFUMfYHD"
      }
    }
  ]
}